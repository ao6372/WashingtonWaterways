{
 "cells": [
  {
   "cell_type": "code",
   "execution_count": 2,
   "metadata": {
    "collapsed": true
   },
   "outputs": [],
   "source": [
    "from netCDF4 import Dataset\n",
    "import pandas as pd\n",
    "import numpy as np\n",
    "\n",
    "from collections import defaultdict"
   ]
  },
  {
   "cell_type": "code",
   "execution_count": 4,
   "metadata": {
    "collapsed": true
   },
   "outputs": [],
   "source": [
    "import NetCDFDataClean\n",
    "import model"
   ]
  },
  {
   "cell_type": "code",
   "execution_count": null,
   "metadata": {
    "collapsed": true
   },
   "outputs": [],
   "source": []
  },
  {
   "cell_type": "code",
   "execution_count": null,
   "metadata": {
    "collapsed": true
   },
   "outputs": [],
   "source": [
    "outputdf=main(\"Database files/hb2860_transient_runs.ccsm3_A1B.nc\")"
   ]
  },
  {
   "cell_type": "code",
   "execution_count": 4,
   "metadata": {
    "collapsed": true
   },
   "outputs": [],
   "source": [
    "group=Dataset('Database files/hb2860_transient_runs.ccsm3_A1B.nc')"
   ]
  },
  {
   "cell_type": "code",
   "execution_count": 13,
   "metadata": {},
   "outputs": [
    {
     "data": {
      "text/plain": [
       "9432"
      ]
     },
     "execution_count": 13,
     "metadata": {},
     "output_type": "execute_result"
    }
   ],
   "source": [
    "clist=makecoordlist(group)\n",
    "len(clist)"
   ]
  },
  {
   "cell_type": "code",
   "execution_count": 15,
   "metadata": {},
   "outputs": [
    {
     "data": {
      "text/plain": [
       "54787"
      ]
     },
     "execution_count": 15,
     "metadata": {},
     "output_type": "execute_result"
    }
   ],
   "source": [
    "tlist=maketimelist(group)\n",
    "len(tlist)"
   ]
  },
  {
   "cell_type": "code",
   "execution_count": 18,
   "metadata": {},
   "outputs": [
    {
     "data": {
      "text/plain": [
       "<class 'netCDF4._netCDF4.Variable'>\n",
       "int32 TIME(TIME)\n",
       "    units: days since 1950-01-01\n",
       "    origin: 1950-01-01\n",
       "    long_name: Time axis\n",
       "unlimited dimensions: TIME\n",
       "current shape = (54787,)\n",
       "filling on, default _FillValue of -2147483647 used"
      ]
     },
     "execution_count": 18,
     "metadata": {},
     "output_type": "execute_result"
    }
   ],
   "source": [
    "group.variables['TIME']"
   ]
  },
  {
   "cell_type": "code",
   "execution_count": 20,
   "metadata": {},
   "outputs": [
    {
     "data": {
      "text/plain": [
       "2100"
      ]
     },
     "execution_count": 20,
     "metadata": {},
     "output_type": "execute_result"
    }
   ],
   "source": [
    "54787/365"
   ]
  },
  {
   "cell_type": "code",
   "execution_count": 31,
   "metadata": {},
   "outputs": [
    {
     "name": "stderr",
     "output_type": "stream",
     "text": [
      "/anaconda2/envs/py36/lib/python3.6/site-packages/ipykernel_launcher.py:74: SettingWithCopyWarning: \n",
      "A value is trying to be set on a copy of a slice from a DataFrame\n",
      "\n",
      "See the caveats in the documentation: http://pandas.pydata.org/pandas-docs/stable/indexing.html#indexing-view-versus-copy\n",
      "/anaconda2/envs/py36/lib/python3.6/site-packages/ipykernel_launcher.py:72: SettingWithCopyWarning: \n",
      "A value is trying to be set on a copy of a slice from a DataFrame\n",
      "\n",
      "See the caveats in the documentation: http://pandas.pydata.org/pandas-docs/stable/indexing.html#indexing-view-versus-copy\n"
     ]
    }
   ],
   "source": [
    "waterdf=addwateryear(outputdf[:100])"
   ]
  },
  {
   "cell_type": "code",
   "execution_count": 519,
   "metadata": {},
   "outputs": [
    {
     "name": "stderr",
     "output_type": "stream",
     "text": [
      "/anaconda2/envs/py36/lib/python3.6/site-packages/ipykernel_launcher.py:1: SettingWithCopyWarning: \n",
      "A value is trying to be set on a copy of a slice from a DataFrame\n",
      "\n",
      "See the caveats in the documentation: http://pandas.pydata.org/pandas-docs/stable/indexing.html#indexing-view-versus-copy\n",
      "  \"\"\"Entry point for launching an IPython kernel.\n"
     ]
    },
    {
     "data": {
      "text/html": [
       "<div>\n",
       "<style scoped>\n",
       "    .dataframe tbody tr th:only-of-type {\n",
       "        vertical-align: middle;\n",
       "    }\n",
       "\n",
       "    .dataframe tbody tr th {\n",
       "        vertical-align: top;\n",
       "    }\n",
       "\n",
       "    .dataframe thead th {\n",
       "        text-align: right;\n",
       "    }\n",
       "</style>\n",
       "<table border=\"1\" class=\"dataframe\">\n",
       "  <thead>\n",
       "    <tr style=\"text-align: right;\">\n",
       "      <th></th>\n",
       "      <th>(48.28125, -122.46875)</th>\n",
       "      <th>(48.28125, -122.40625)</th>\n",
       "      <th>(48.28125, -122.34375)</th>\n",
       "      <th>(48.28125, -122.28125)</th>\n",
       "      <th>(48.28125, -122.21875)</th>\n",
       "      <th>(48.28125, -122.15625)</th>\n",
       "      <th>(48.28125, -122.09375)</th>\n",
       "      <th>(48.28125, -122.03125)</th>\n",
       "      <th>(48.34375, -122.46875)</th>\n",
       "      <th>(48.34375, -122.40625)</th>\n",
       "      <th>...</th>\n",
       "      <th>(48.65625, -122.03125)</th>\n",
       "      <th>(48.71875, -122.46875)</th>\n",
       "      <th>(48.71875, -122.40625)</th>\n",
       "      <th>(48.71875, -122.34375)</th>\n",
       "      <th>(48.71875, -122.28125)</th>\n",
       "      <th>(48.71875, -122.21875)</th>\n",
       "      <th>(48.71875, -122.15625)</th>\n",
       "      <th>(48.71875, -122.09375)</th>\n",
       "      <th>(48.71875, -122.03125)</th>\n",
       "      <th>wateryear</th>\n",
       "    </tr>\n",
       "  </thead>\n",
       "  <tbody>\n",
       "    <tr>\n",
       "      <th>2032-02-20</th>\n",
       "      <td>NaN</td>\n",
       "      <td>NaN</td>\n",
       "      <td>0.590820</td>\n",
       "      <td>0.679688</td>\n",
       "      <td>0.642578</td>\n",
       "      <td>0.664062</td>\n",
       "      <td>0.784180</td>\n",
       "      <td>0.684570</td>\n",
       "      <td>NaN</td>\n",
       "      <td>0.599609</td>\n",
       "      <td>...</td>\n",
       "      <td>0.836914</td>\n",
       "      <td>1.016602</td>\n",
       "      <td>1.601562</td>\n",
       "      <td>1.802734</td>\n",
       "      <td>2.018555</td>\n",
       "      <td>1.812500</td>\n",
       "      <td>1.041016</td>\n",
       "      <td>0.637695</td>\n",
       "      <td>0.718750</td>\n",
       "      <td>2031</td>\n",
       "    </tr>\n",
       "    <tr>\n",
       "      <th>2032-02-21</th>\n",
       "      <td>NaN</td>\n",
       "      <td>NaN</td>\n",
       "      <td>0.755859</td>\n",
       "      <td>0.973633</td>\n",
       "      <td>1.103516</td>\n",
       "      <td>1.208008</td>\n",
       "      <td>1.381836</td>\n",
       "      <td>1.246094</td>\n",
       "      <td>NaN</td>\n",
       "      <td>0.622070</td>\n",
       "      <td>...</td>\n",
       "      <td>0.756836</td>\n",
       "      <td>1.170898</td>\n",
       "      <td>1.354492</td>\n",
       "      <td>1.542969</td>\n",
       "      <td>1.682617</td>\n",
       "      <td>1.594727</td>\n",
       "      <td>0.917969</td>\n",
       "      <td>0.587891</td>\n",
       "      <td>0.663086</td>\n",
       "      <td>1</td>\n",
       "    </tr>\n",
       "  </tbody>\n",
       "</table>\n",
       "<p>2 rows × 65 columns</p>\n",
       "</div>"
      ],
      "text/plain": [
       "            (48.28125, -122.46875)  (48.28125, -122.40625)  \\\n",
       "2032-02-20                     NaN                     NaN   \n",
       "2032-02-21                     NaN                     NaN   \n",
       "\n",
       "            (48.28125, -122.34375)  (48.28125, -122.28125)  \\\n",
       "2032-02-20                0.590820                0.679688   \n",
       "2032-02-21                0.755859                0.973633   \n",
       "\n",
       "            (48.28125, -122.21875)  (48.28125, -122.15625)  \\\n",
       "2032-02-20                0.642578                0.664062   \n",
       "2032-02-21                1.103516                1.208008   \n",
       "\n",
       "            (48.28125, -122.09375)  (48.28125, -122.03125)  \\\n",
       "2032-02-20                0.784180                0.684570   \n",
       "2032-02-21                1.381836                1.246094   \n",
       "\n",
       "            (48.34375, -122.46875)  (48.34375, -122.40625)    ...      \\\n",
       "2032-02-20                     NaN                0.599609    ...       \n",
       "2032-02-21                     NaN                0.622070    ...       \n",
       "\n",
       "            (48.65625, -122.03125)  (48.71875, -122.46875)  \\\n",
       "2032-02-20                0.836914                1.016602   \n",
       "2032-02-21                0.756836                1.170898   \n",
       "\n",
       "            (48.71875, -122.40625)  (48.71875, -122.34375)  \\\n",
       "2032-02-20                1.601562                1.802734   \n",
       "2032-02-21                1.354492                1.542969   \n",
       "\n",
       "            (48.71875, -122.28125)  (48.71875, -122.21875)  \\\n",
       "2032-02-20                2.018555                1.812500   \n",
       "2032-02-21                1.682617                1.594727   \n",
       "\n",
       "            (48.71875, -122.15625)  (48.71875, -122.09375)  \\\n",
       "2032-02-20                1.041016                0.637695   \n",
       "2032-02-21                0.917969                0.587891   \n",
       "\n",
       "            (48.71875, -122.03125)  wateryear  \n",
       "2032-02-20                0.718750       2031  \n",
       "2032-02-21                0.663086          1  \n",
       "\n",
       "[2 rows x 65 columns]"
      ]
     },
     "execution_count": 519,
     "metadata": {},
     "output_type": "execute_result"
    }
   ],
   "source": [
    "waterdf['wateryear'][1]=1\n",
    "\n",
    "waterdf.head(2)\n"
   ]
  },
  {
   "cell_type": "code",
   "execution_count": 107,
   "metadata": {},
   "outputs": [
    {
     "data": {
      "text/plain": [
       "Int64Index([2031, 2032, 2033, 2034, 2035, 2036, 2037, 2038, 2039, 2040, 2041,\n",
       "            2042, 2043, 2044, 2045, 2046, 2047, 2048, 2049, 2050, 2051, 2052,\n",
       "            2053, 2054, 2055, 2056, 2057, 2058, 2059, 2060, 2061, 2062, 2063,\n",
       "            2064, 2065, 2066, 2067, 2068, 2069, 2070, 2071, 2072, 2073, 2074,\n",
       "            2075, 2076, 2077, 2078, 2079, 2080, 2081, 2082, 2083, 2084, 2085,\n",
       "            2086, 2087, 2088, 2089, 2090, 2091, 2092, 2093, 2094, 2095, 2096,\n",
       "            2097, 2098, 2099],\n",
       "           dtype='int64', name='wateryear')"
      ]
     },
     "execution_count": 107,
     "metadata": {},
     "output_type": "execute_result"
    }
   ],
   "source": [
    "smallwaterdf=waterdf[:100]\n",
    "groupdf=waterdf.groupby('wateryear')\n",
    "maxdf=groupdf.max()\n",
    "maxdf.index"
   ]
  },
  {
   "cell_type": "code",
   "execution_count": 315,
   "metadata": {},
   "outputs": [
    {
     "data": {
      "text/html": [
       "<div>\n",
       "<style scoped>\n",
       "    .dataframe tbody tr th:only-of-type {\n",
       "        vertical-align: middle;\n",
       "    }\n",
       "\n",
       "    .dataframe tbody tr th {\n",
       "        vertical-align: top;\n",
       "    }\n",
       "\n",
       "    .dataframe thead th {\n",
       "        text-align: right;\n",
       "    }\n",
       "</style>\n",
       "<table border=\"1\" class=\"dataframe\">\n",
       "  <thead>\n",
       "    <tr style=\"text-align: right;\">\n",
       "      <th></th>\n",
       "      <th>(48.28125, -122.46875)</th>\n",
       "      <th>(48.28125, -122.40625)</th>\n",
       "      <th>(48.28125, -122.34375)</th>\n",
       "      <th>(48.28125, -122.28125)</th>\n",
       "      <th>(48.28125, -122.21875)</th>\n",
       "      <th>(48.28125, -122.15625)</th>\n",
       "      <th>(48.28125, -122.09375)</th>\n",
       "      <th>(48.28125, -122.03125)</th>\n",
       "      <th>(48.34375, -122.46875)</th>\n",
       "      <th>(48.34375, -122.40625)</th>\n",
       "      <th>...</th>\n",
       "      <th>(48.65625, -122.09375)</th>\n",
       "      <th>(48.65625, -122.03125)</th>\n",
       "      <th>(48.71875, -122.46875)</th>\n",
       "      <th>(48.71875, -122.40625)</th>\n",
       "      <th>(48.71875, -122.34375)</th>\n",
       "      <th>(48.71875, -122.28125)</th>\n",
       "      <th>(48.71875, -122.21875)</th>\n",
       "      <th>(48.71875, -122.15625)</th>\n",
       "      <th>(48.71875, -122.09375)</th>\n",
       "      <th>(48.71875, -122.03125)</th>\n",
       "    </tr>\n",
       "    <tr>\n",
       "      <th>wateryear</th>\n",
       "      <th></th>\n",
       "      <th></th>\n",
       "      <th></th>\n",
       "      <th></th>\n",
       "      <th></th>\n",
       "      <th></th>\n",
       "      <th></th>\n",
       "      <th></th>\n",
       "      <th></th>\n",
       "      <th></th>\n",
       "      <th></th>\n",
       "      <th></th>\n",
       "      <th></th>\n",
       "      <th></th>\n",
       "      <th></th>\n",
       "      <th></th>\n",
       "      <th></th>\n",
       "      <th></th>\n",
       "      <th></th>\n",
       "      <th></th>\n",
       "      <th></th>\n",
       "    </tr>\n",
       "  </thead>\n",
       "  <tbody>\n",
       "    <tr>\n",
       "      <th>2031</th>\n",
       "      <td>NaN</td>\n",
       "      <td>NaN</td>\n",
       "      <td>5.739258</td>\n",
       "      <td>8.860352</td>\n",
       "      <td>11.040039</td>\n",
       "      <td>12.712891</td>\n",
       "      <td>16.350586</td>\n",
       "      <td>14.495117</td>\n",
       "      <td>NaN</td>\n",
       "      <td>3.999023</td>\n",
       "      <td>...</td>\n",
       "      <td>17.710938</td>\n",
       "      <td>32.461914</td>\n",
       "      <td>5.707031</td>\n",
       "      <td>7.441406</td>\n",
       "      <td>10.27832</td>\n",
       "      <td>17.423828</td>\n",
       "      <td>13.251953</td>\n",
       "      <td>11.031250</td>\n",
       "      <td>15.292969</td>\n",
       "      <td>29.160156</td>\n",
       "    </tr>\n",
       "    <tr>\n",
       "      <th>2032</th>\n",
       "      <td>NaN</td>\n",
       "      <td>NaN</td>\n",
       "      <td>11.638672</td>\n",
       "      <td>16.922852</td>\n",
       "      <td>20.873047</td>\n",
       "      <td>23.219727</td>\n",
       "      <td>31.436523</td>\n",
       "      <td>29.726562</td>\n",
       "      <td>NaN</td>\n",
       "      <td>7.208008</td>\n",
       "      <td>...</td>\n",
       "      <td>65.974609</td>\n",
       "      <td>133.994141</td>\n",
       "      <td>23.193359</td>\n",
       "      <td>39.540039</td>\n",
       "      <td>57.09375</td>\n",
       "      <td>111.064453</td>\n",
       "      <td>91.287109</td>\n",
       "      <td>59.831055</td>\n",
       "      <td>55.563477</td>\n",
       "      <td>93.502930</td>\n",
       "    </tr>\n",
       "  </tbody>\n",
       "</table>\n",
       "<p>2 rows × 64 columns</p>\n",
       "</div>"
      ],
      "text/plain": [
       "           (48.28125, -122.46875)  (48.28125, -122.40625)  \\\n",
       "wateryear                                                   \n",
       "2031                          NaN                     NaN   \n",
       "2032                          NaN                     NaN   \n",
       "\n",
       "           (48.28125, -122.34375)  (48.28125, -122.28125)  \\\n",
       "wateryear                                                   \n",
       "2031                     5.739258                8.860352   \n",
       "2032                    11.638672               16.922852   \n",
       "\n",
       "           (48.28125, -122.21875)  (48.28125, -122.15625)  \\\n",
       "wateryear                                                   \n",
       "2031                    11.040039               12.712891   \n",
       "2032                    20.873047               23.219727   \n",
       "\n",
       "           (48.28125, -122.09375)  (48.28125, -122.03125)  \\\n",
       "wateryear                                                   \n",
       "2031                    16.350586               14.495117   \n",
       "2032                    31.436523               29.726562   \n",
       "\n",
       "           (48.34375, -122.46875)  (48.34375, -122.40625)  \\\n",
       "wateryear                                                   \n",
       "2031                          NaN                3.999023   \n",
       "2032                          NaN                7.208008   \n",
       "\n",
       "                    ...            (48.65625, -122.09375)  \\\n",
       "wateryear           ...                                     \n",
       "2031                ...                         17.710938   \n",
       "2032                ...                         65.974609   \n",
       "\n",
       "           (48.65625, -122.03125)  (48.71875, -122.46875)  \\\n",
       "wateryear                                                   \n",
       "2031                    32.461914                5.707031   \n",
       "2032                   133.994141               23.193359   \n",
       "\n",
       "           (48.71875, -122.40625)  (48.71875, -122.34375)  \\\n",
       "wateryear                                                   \n",
       "2031                     7.441406                10.27832   \n",
       "2032                    39.540039                57.09375   \n",
       "\n",
       "           (48.71875, -122.28125)  (48.71875, -122.21875)  \\\n",
       "wateryear                                                   \n",
       "2031                    17.423828               13.251953   \n",
       "2032                   111.064453               91.287109   \n",
       "\n",
       "           (48.71875, -122.15625)  (48.71875, -122.09375)  \\\n",
       "wateryear                                                   \n",
       "2031                    11.031250               15.292969   \n",
       "2032                    59.831055               55.563477   \n",
       "\n",
       "           (48.71875, -122.03125)  \n",
       "wateryear                          \n",
       "2031                    29.160156  \n",
       "2032                    93.502930  \n",
       "\n",
       "[2 rows x 64 columns]"
      ]
     },
     "execution_count": 315,
     "metadata": {},
     "output_type": "execute_result"
    }
   ],
   "source": [
    "\n",
    "np.array(dfyears)\n",
    "\n",
    "maxdf[(maxdf.index>2047) & (maxdf.index<=2077)]['(48.71875, -122.09375)']\n",
    "maxdf.head(2)\n"
   ]
  },
  {
   "cell_type": "code",
   "execution_count": null,
   "metadata": {
    "collapsed": true
   },
   "outputs": [],
   "source": []
  },
  {
   "cell_type": "code",
   "execution_count": 277,
   "metadata": {},
   "outputs": [
    {
     "data": {
      "text/plain": [
       "array([ 29.96858275,  29.96320941,  29.94523842,  29.92705639,\n",
       "        29.90898325,  29.89263874,  29.88153399,  29.88381825,\n",
       "        29.87988281,  29.87057741,  29.86275929,  29.85486261,\n",
       "        29.84317641,  29.83194594,  29.83135776,  29.82758621,\n",
       "        29.82041689,  29.809934  ,  29.80165679,  29.80587733,\n",
       "        29.79633621,  29.79775054,  29.79263649,  29.79784483,\n",
       "        29.79074062,  29.79868445,  29.80130657,  29.8123653 ,\n",
       "        29.82073568,  29.85176455])"
      ]
     },
     "execution_count": 277,
     "metadata": {},
     "output_type": "execute_result"
    }
   ],
   "source": [
    "array2077=get_GEV_values(2077,'(48.28125, -122.34375)' , maxdf)\n",
    "data=np.sort(array2077)[::-1]\n",
    "rank=np.arange(1,len(data)+1)\n",
    "\n",
    "n=len(data)\n",
    "\n",
    "n-rank/(n*(n-1))*data\n",
    "#sum(n-rank/(n*(n-1))*data)\n",
    "#n-rank/(n*(n-1))*data"
   ]
  },
  {
   "cell_type": "code",
   "execution_count": 218,
   "metadata": {},
   "outputs": [
    {
     "data": {
      "text/plain": [
       "array([  8.44433594,   5.83007812,  14.72363281,  15.56738281], dtype=float32)"
      ]
     },
     "execution_count": 218,
     "metadata": {},
     "output_type": "execute_result"
    }
   ],
   "source": [
    "np.random.choice(array2077, 4, replace=False)"
   ]
  },
  {
   "cell_type": "code",
   "execution_count": 738,
   "metadata": {
    "collapsed": true
   },
   "outputs": [],
   "source": []
  },
  {
   "cell_type": "code",
   "execution_count": 10,
   "metadata": {},
   "outputs": [],
   "source": [
    "dfexample=pd.read_csv('CCSM3_A1BExample.csv')\n",
    "dfexample.index=dfexample['wateryear']\n",
    "dataarray=model.convertfiles_toratios(startyear=2015, coord='(48.71875, -122.09375)', endyear=2030, dfsource=dfexample)"
   ]
  },
  {
   "cell_type": "code",
   "execution_count": 17,
   "metadata": {},
   "outputs": [
    {
     "data": {
      "text/html": [
       "<div>\n",
       "<style scoped>\n",
       "    .dataframe tbody tr th:only-of-type {\n",
       "        vertical-align: middle;\n",
       "    }\n",
       "\n",
       "    .dataframe tbody tr th {\n",
       "        vertical-align: top;\n",
       "    }\n",
       "\n",
       "    .dataframe thead th {\n",
       "        text-align: right;\n",
       "    }\n",
       "</style>\n",
       "<table border=\"1\" class=\"dataframe\">\n",
       "  <thead>\n",
       "    <tr style=\"text-align: right;\">\n",
       "      <th></th>\n",
       "      <th>2016</th>\n",
       "      <th>2017</th>\n",
       "      <th>2018</th>\n",
       "      <th>2019</th>\n",
       "      <th>2020</th>\n",
       "      <th>2021</th>\n",
       "      <th>2022</th>\n",
       "      <th>2023</th>\n",
       "      <th>2024</th>\n",
       "      <th>2025</th>\n",
       "      <th>2026</th>\n",
       "      <th>2027</th>\n",
       "      <th>2028</th>\n",
       "      <th>2029</th>\n",
       "      <th>2030</th>\n",
       "    </tr>\n",
       "  </thead>\n",
       "  <tbody>\n",
       "    <tr>\n",
       "      <th>0.05</th>\n",
       "      <td>0.842649</td>\n",
       "      <td>0.833863</td>\n",
       "      <td>0.835441</td>\n",
       "      <td>0.827707</td>\n",
       "      <td>0.827606</td>\n",
       "      <td>0.824705</td>\n",
       "      <td>0.819745</td>\n",
       "      <td>0.835273</td>\n",
       "      <td>0.838906</td>\n",
       "      <td>0.827635</td>\n",
       "      <td>0.834248</td>\n",
       "      <td>0.835513</td>\n",
       "      <td>0.826158</td>\n",
       "      <td>0.824892</td>\n",
       "      <td>0.832277</td>\n",
       "    </tr>\n",
       "    <tr>\n",
       "      <th>0.50</th>\n",
       "      <td>0.986467</td>\n",
       "      <td>0.968318</td>\n",
       "      <td>0.974406</td>\n",
       "      <td>0.966150</td>\n",
       "      <td>0.971221</td>\n",
       "      <td>0.960000</td>\n",
       "      <td>0.958260</td>\n",
       "      <td>0.973405</td>\n",
       "      <td>0.985797</td>\n",
       "      <td>0.979336</td>\n",
       "      <td>0.974811</td>\n",
       "      <td>0.981193</td>\n",
       "      <td>0.975487</td>\n",
       "      <td>0.964537</td>\n",
       "      <td>0.970708</td>\n",
       "    </tr>\n",
       "    <tr>\n",
       "      <th>0.95</th>\n",
       "      <td>1.159679</td>\n",
       "      <td>1.143459</td>\n",
       "      <td>1.139852</td>\n",
       "      <td>1.125669</td>\n",
       "      <td>1.128663</td>\n",
       "      <td>1.110086</td>\n",
       "      <td>1.106556</td>\n",
       "      <td>1.135745</td>\n",
       "      <td>1.137299</td>\n",
       "      <td>1.150929</td>\n",
       "      <td>1.150052</td>\n",
       "      <td>1.164561</td>\n",
       "      <td>1.139461</td>\n",
       "      <td>1.134364</td>\n",
       "      <td>1.144865</td>\n",
       "    </tr>\n",
       "  </tbody>\n",
       "</table>\n",
       "</div>"
      ],
      "text/plain": [
       "          2016      2017      2018      2019      2020      2021      2022  \\\n",
       "0.05  0.842649  0.833863  0.835441  0.827707  0.827606  0.824705  0.819745   \n",
       "0.50  0.986467  0.968318  0.974406  0.966150  0.971221  0.960000  0.958260   \n",
       "0.95  1.159679  1.143459  1.139852  1.125669  1.128663  1.110086  1.106556   \n",
       "\n",
       "          2023      2024      2025      2026      2027      2028      2029  \\\n",
       "0.05  0.835273  0.838906  0.827635  0.834248  0.835513  0.826158  0.824892   \n",
       "0.50  0.973405  0.985797  0.979336  0.974811  0.981193  0.975487  0.964537   \n",
       "0.95  1.135745  1.137299  1.150929  1.150052  1.164561  1.139461  1.134364   \n",
       "\n",
       "          2030  \n",
       "0.05  0.832277  \n",
       "0.50  0.970708  \n",
       "0.95  1.144865  "
      ]
     },
     "execution_count": 17,
     "metadata": {},
     "output_type": "execute_result"
    }
   ],
   "source": [
    "dataarray"
   ]
  },
  {
   "cell_type": "code",
   "execution_count": 216,
   "metadata": {},
   "outputs": [
    {
     "data": {
      "text/html": [
       "<div>\n",
       "<style scoped>\n",
       "    .dataframe tbody tr th:only-of-type {\n",
       "        vertical-align: middle;\n",
       "    }\n",
       "\n",
       "    .dataframe tbody tr th {\n",
       "        vertical-align: top;\n",
       "    }\n",
       "\n",
       "    .dataframe thead th {\n",
       "        text-align: right;\n",
       "    }\n",
       "</style>\n",
       "<table border=\"1\" class=\"dataframe\">\n",
       "  <thead>\n",
       "    <tr style=\"text-align: right;\">\n",
       "      <th></th>\n",
       "      <th>2016</th>\n",
       "      <th>2017</th>\n",
       "      <th>2018</th>\n",
       "      <th>2019</th>\n",
       "      <th>2020</th>\n",
       "      <th>2021</th>\n",
       "      <th>2022</th>\n",
       "      <th>2023</th>\n",
       "      <th>2024</th>\n",
       "      <th>2025</th>\n",
       "      <th>2026</th>\n",
       "      <th>2027</th>\n",
       "      <th>2028</th>\n",
       "      <th>2029</th>\n",
       "      <th>2030</th>\n",
       "    </tr>\n",
       "  </thead>\n",
       "  <tbody>\n",
       "    <tr>\n",
       "      <th>0.05</th>\n",
       "      <td>0.842649</td>\n",
       "      <td>0.833863</td>\n",
       "      <td>0.835441</td>\n",
       "      <td>0.827707</td>\n",
       "      <td>0.827606</td>\n",
       "      <td>0.824705</td>\n",
       "      <td>0.819745</td>\n",
       "      <td>0.835273</td>\n",
       "      <td>0.838906</td>\n",
       "      <td>0.827635</td>\n",
       "      <td>0.834248</td>\n",
       "      <td>0.835513</td>\n",
       "      <td>0.826158</td>\n",
       "      <td>0.824892</td>\n",
       "      <td>0.832277</td>\n",
       "    </tr>\n",
       "    <tr>\n",
       "      <th>0.50</th>\n",
       "      <td>0.986467</td>\n",
       "      <td>0.968318</td>\n",
       "      <td>0.974406</td>\n",
       "      <td>0.966150</td>\n",
       "      <td>0.971221</td>\n",
       "      <td>0.960000</td>\n",
       "      <td>0.958260</td>\n",
       "      <td>0.973405</td>\n",
       "      <td>0.985797</td>\n",
       "      <td>0.979336</td>\n",
       "      <td>0.974811</td>\n",
       "      <td>0.981193</td>\n",
       "      <td>0.975487</td>\n",
       "      <td>0.964537</td>\n",
       "      <td>0.970708</td>\n",
       "    </tr>\n",
       "    <tr>\n",
       "      <th>0.95</th>\n",
       "      <td>1.159679</td>\n",
       "      <td>1.143459</td>\n",
       "      <td>1.139852</td>\n",
       "      <td>1.125669</td>\n",
       "      <td>1.128663</td>\n",
       "      <td>1.110086</td>\n",
       "      <td>1.106556</td>\n",
       "      <td>1.135745</td>\n",
       "      <td>1.137299</td>\n",
       "      <td>1.150929</td>\n",
       "      <td>1.150052</td>\n",
       "      <td>1.164561</td>\n",
       "      <td>1.139461</td>\n",
       "      <td>1.134364</td>\n",
       "      <td>1.144865</td>\n",
       "    </tr>\n",
       "    <tr>\n",
       "      <th>0.05</th>\n",
       "      <td>0.710057</td>\n",
       "      <td>0.695327</td>\n",
       "      <td>0.697962</td>\n",
       "      <td>0.685099</td>\n",
       "      <td>0.684932</td>\n",
       "      <td>0.680138</td>\n",
       "      <td>0.671982</td>\n",
       "      <td>0.697680</td>\n",
       "      <td>0.703764</td>\n",
       "      <td>0.684979</td>\n",
       "      <td>0.695970</td>\n",
       "      <td>0.698082</td>\n",
       "      <td>0.682537</td>\n",
       "      <td>0.680446</td>\n",
       "      <td>0.692685</td>\n",
       "    </tr>\n",
       "    <tr>\n",
       "      <th>0.50</th>\n",
       "      <td>0.973118</td>\n",
       "      <td>0.937641</td>\n",
       "      <td>0.949468</td>\n",
       "      <td>0.933445</td>\n",
       "      <td>0.943270</td>\n",
       "      <td>0.921599</td>\n",
       "      <td>0.918263</td>\n",
       "      <td>0.947517</td>\n",
       "      <td>0.971795</td>\n",
       "      <td>0.959099</td>\n",
       "      <td>0.950257</td>\n",
       "      <td>0.962740</td>\n",
       "      <td>0.951576</td>\n",
       "      <td>0.930332</td>\n",
       "      <td>0.942274</td>\n",
       "    </tr>\n",
       "    <tr>\n",
       "      <th>0.95</th>\n",
       "      <td>1.344856</td>\n",
       "      <td>1.307498</td>\n",
       "      <td>1.299262</td>\n",
       "      <td>1.267130</td>\n",
       "      <td>1.273880</td>\n",
       "      <td>1.232291</td>\n",
       "      <td>1.224465</td>\n",
       "      <td>1.289917</td>\n",
       "      <td>1.293450</td>\n",
       "      <td>1.324637</td>\n",
       "      <td>1.322620</td>\n",
       "      <td>1.356202</td>\n",
       "      <td>1.298372</td>\n",
       "      <td>1.286781</td>\n",
       "      <td>1.310715</td>\n",
       "    </tr>\n",
       "  </tbody>\n",
       "</table>\n",
       "</div>"
      ],
      "text/plain": [
       "          2016      2017      2018      2019      2020      2021      2022  \\\n",
       "0.05  0.842649  0.833863  0.835441  0.827707  0.827606  0.824705  0.819745   \n",
       "0.50  0.986467  0.968318  0.974406  0.966150  0.971221  0.960000  0.958260   \n",
       "0.95  1.159679  1.143459  1.139852  1.125669  1.128663  1.110086  1.106556   \n",
       "0.05  0.710057  0.695327  0.697962  0.685099  0.684932  0.680138  0.671982   \n",
       "0.50  0.973118  0.937641  0.949468  0.933445  0.943270  0.921599  0.918263   \n",
       "0.95  1.344856  1.307498  1.299262  1.267130  1.273880  1.232291  1.224465   \n",
       "\n",
       "          2023      2024      2025      2026      2027      2028      2029  \\\n",
       "0.05  0.835273  0.838906  0.827635  0.834248  0.835513  0.826158  0.824892   \n",
       "0.50  0.973405  0.985797  0.979336  0.974811  0.981193  0.975487  0.964537   \n",
       "0.95  1.135745  1.137299  1.150929  1.150052  1.164561  1.139461  1.134364   \n",
       "0.05  0.697680  0.703764  0.684979  0.695970  0.698082  0.682537  0.680446   \n",
       "0.50  0.947517  0.971795  0.959099  0.950257  0.962740  0.951576  0.930332   \n",
       "0.95  1.289917  1.293450  1.324637  1.322620  1.356202  1.298372  1.286781   \n",
       "\n",
       "          2030  \n",
       "0.05  0.832277  \n",
       "0.50  0.970708  \n",
       "0.95  1.144865  \n",
       "0.05  0.692685  \n",
       "0.50  0.942274  \n",
       "0.95  1.310715  "
      ]
     },
     "execution_count": 216,
     "metadata": {},
     "output_type": "execute_result"
    }
   ],
   "source": [
    "dfmore=pd.concat([dataarray,dataarray**2])\n",
    "dfmore"
   ]
  },
  {
   "cell_type": "code",
   "execution_count": 136,
   "metadata": {},
   "outputs": [],
   "source": [
    "fivpctl=dfmore.groupby(dfmore.index).get_group(.05)\n",
    "groupedf=dfmore.groupby(dfmore.index)\n"
   ]
  },
  {
   "cell_type": "code",
   "execution_count": 220,
   "metadata": {},
   "outputs": [],
   "source": [
    "dfmoregroup=dfmore.groupby(dfmore.index)\n",
    "meandf=dfmoregroup.mean()"
   ]
  },
  {
   "cell_type": "code",
   "execution_count": 178,
   "metadata": {},
   "outputs": [],
   "source": [
    "vote=fivpctl[fivpctl>.7].count(axis=0)\n",
    "votepctl=vote/fivpctl.shape[0]\n"
   ]
  },
  {
   "cell_type": "code",
   "execution_count": null,
   "metadata": {},
   "outputs": [],
   "source": []
  },
  {
   "cell_type": "code",
   "execution_count": 170,
   "metadata": {},
   "outputs": [
    {
     "data": {
      "text/plain": [
       "array([ 0.7100568 ,  0.69532723,  0.6979618 ,  0.6850991 ,  0.68493223,\n",
       "        0.68013798,  0.6719816 ,  0.69768049,  0.70376394,  0.68497914,\n",
       "        0.69596952,  0.69808248,  0.68253661,  0.68044603,  0.69268498])"
      ]
     },
     "execution_count": 170,
     "metadata": {},
     "output_type": "execute_result"
    }
   ],
   "source": [
    "y=fivpctl.iloc[1:].values[0]"
   ]
  },
  {
   "cell_type": "code",
   "execution_count": null,
   "metadata": {},
   "outputs": [],
   "source": []
  },
  {
   "cell_type": "code",
   "execution_count": 379,
   "metadata": {},
   "outputs": [],
   "source": [
    "from netCDF4 import Dataset\n",
    "import pandas as pd\n",
    "import numpy as np\n",
    "from collections import defaultdict\n",
    "import matplotlib.pyplot as plt\n",
    "\n",
    "from scipy.stats import genextreme\n",
    "from math import gamma\n",
    "from location_parameters import find_sample_pctl\n",
    "from location_parameters import find_beta_TBFW\n",
    "\n",
    "from model import convertfiles_toratios\n",
    "\n",
    "#list of file location references\n",
    "#order matters to know which models made which percentile that jumped\n",
    "dfpathsA1=['reference_csv/ccsm3_A1B.csv',\n",
    "                'reference_csv/cgcm3.1_t47_A1B.csv',\n",
    "                'reference_csv/cnrm_cm3_A1B.csv',\n",
    "                 'reference_csv/echam5_A1B.csv',\n",
    "                 'reference_csv/echo_g_A1B.csv',\n",
    "                'reference_csv/pcm1_A1B.csv'\n",
    "                ]\n",
    "\n",
    "dfpathsB1=['reference_csv/ccsm3_B1.csv',\n",
    "                'reference_csv/cnrm_cm3_B1.csv', \n",
    "                'reference_csv/echam5_B1.csv', \n",
    "                'reference_csv/echo_g_B1.csv', \n",
    "                'reference_csv/hadcm_B1.csv',\n",
    "                'reference_csv/pcm1_B1.csv'\n",
    "                ]\n",
    "\n",
    "\n",
    "#associated models with each path for researcher reference\n",
    "modelnamesA1=['ccsm3_A1B','cgcm3.1_t47_A1B','cnrm_cm3_A1B','echam5_A1B',\n",
    "                'echo_g_A1B', 'pcm1_A1B']\n",
    "\n",
    "modelnamesB1=['ccsm3_B1.csv', 'cnrm_cm3_A1B.csv', 'echam5_B1.csv', 'echo_g_B1.csv','hadcm_B1.csv', 'pcm1_B1.csv']\n",
    "\n",
    "\n",
    "def gevsamps_modelsyears(startyear, coord, endyear, dfpaths):\n",
    "    #returns the .05,.5,.95 of all the samples GEV values\n",
    "    pctldfslist=[]\n",
    "    for dfpath in dfpaths:\n",
    "        df=pd.read_csv(dfpath)\n",
    "        df.index=df['wateryear']\n",
    "        pctldf=convertfiles_toratios(startyear, coord, endyear, dfsource=df)\n",
    "        pctldfslist.append(pctldf)\n",
    "        dfpctls=pd.concat(pctldfslist)\n",
    "    return dfpctls\n",
    "\n",
    "def get_fivepctl(dfpctls):\n",
    "    fivepctldf=dfpctls.groupby(dfpctls.index).get_group(.05)\n",
    "    return fivepctldf\n",
    "\n",
    "def above_threshold(thresh, fivepctldf, coord):\n",
    "    #takes list of dataframes and looks for 5th Percentile for all models\n",
    "    #records year\n",
    "    vote=fivepctldf[fivepctldf>thresh].count(axis=0)\n",
    "    votepctls=vote/fivepctldf.shape[0] #divides by number of models\n",
    "    return votepctls\n",
    "\n",
    "def get_avgpctls(allyearpctls):\n",
    "    groupedf=allyearpctls.groupby(allyearpctls.index)\n",
    "    meandf=groupedf.mean()\n",
    "    return meandf\n",
    "\n",
    "\n",
    "def plot_fivepctls(fivepctldf, votepctl, startyear, endyear, thresh, coord):\n",
    "    #model map\n",
    "    x=np.arange(startyear+1,endyear+1)\n",
    "    yscale=np.linspace(.1,1,10)\n",
    "    fig = plt.figure()\n",
    "    fig, ax=plt.subplots(figsize=(10,5))\n",
    "    for row in range(fivepctldf.shape[0]):\n",
    "        y=fivepctldf.iloc[row:].values[0]\n",
    "        ax.plot(x, y, 'blue', alpha=.3)\n",
    "    ax.plot(x, fivepctldf.mean(), 'blue', label='average')\n",
    "    ax.legend()\n",
    "    ax.set_xlabel('Year')\n",
    "    ax.set_ylabel('BFW/BFW0')\n",
    "    ax.set_title('Ratio of Stream Flow {} - {} for {}'.format(startyear+1,endyear, coord))\n",
    "    ax.axhline(thresh, label='Threshold', color= 'black')\n",
    "    \n",
    "    #probability graph\n",
    "    fig2, ax2=plt.subplots(figsize=(10,5))\n",
    "    ax2.set_title('Probability of Stream Ratio above Threshold {} - {} for {}'.format(startyear+1,endyear, coord))\n",
    "    ax2.plot(x, votepctl ,'r', label='Probability' )\n",
    "    ax2.tick_params('y', colors='r')\n",
    "    ax2.set_yticks(yscale)\n",
    "    ax2.set_ylabel('Probability Above Threshold (%)')\n",
    "    ax2.legend()\n",
    "    return fig, fig2\n",
    "\n",
    "def make_plot(coord, startyear, endyear, thresh, paths):\n",
    "    dfpctls=gevsamps_modelsyears(startyear, coord, endyear, paths)\n",
    "    fivepctldf=get_fivepctl(dfpctls)\n",
    "    votepctl=above_threshold(thresh, fivepctldf, coord)\n",
    "    plot_fivepctls(fivepctldf, votepctl, startyear, endyear, thresh, coord)\n"
   ]
  },
  {
   "cell_type": "code",
   "execution_count": 376,
   "metadata": {},
   "outputs": [],
   "source": [
    "#make_plot(coord='(48.71875, -122.09375)', startyear=2013, endyear=2030, thresh=.7)\n",
    "\n",
    "coord='(48.71875, -122.09375)'\n",
    "startyear=2013\n",
    "endyear=2090\n",
    "thresh=1\n",
    "paths=dfpathsA1\n",
    "\n",
    "\n",
    "dfpctls=gevsamps_modelsyears(startyear, coord, endyear, paths)\n",
    "fivepctldf=get_fivepctl(dfpctls)\n",
    "votepctl=above_threshold(thresh, fivepctldf, coord)\n"
   ]
  },
  {
   "cell_type": "code",
   "execution_count": 399,
   "metadata": {},
   "outputs": [],
   "source": [
    "votepctl.to_csv('probability.csv')\n"
   ]
  },
  {
   "cell_type": "code",
   "execution_count": 402,
   "metadata": {},
   "outputs": [],
   "source": [
    "fivepctldf.to_csv('ratio.csv')"
   ]
  },
  {
   "cell_type": "code",
   "execution_count": 404,
   "metadata": {},
   "outputs": [],
   "source": [
    "meandf=pd.DataFrame(fivepctldf.mean())"
   ]
  },
  {
   "cell_type": "code",
   "execution_count": 410,
   "metadata": {},
   "outputs": [
    {
     "data": {
      "text/html": [
       "<div>\n",
       "<style scoped>\n",
       "    .dataframe tbody tr th:only-of-type {\n",
       "        vertical-align: middle;\n",
       "    }\n",
       "\n",
       "    .dataframe tbody tr th {\n",
       "        vertical-align: top;\n",
       "    }\n",
       "\n",
       "    .dataframe thead th {\n",
       "        text-align: right;\n",
       "    }\n",
       "</style>\n",
       "<table border=\"1\" class=\"dataframe\">\n",
       "  <thead>\n",
       "    <tr style=\"text-align: right;\">\n",
       "      <th></th>\n",
       "      <th>2014</th>\n",
       "      <th>2015</th>\n",
       "      <th>2016</th>\n",
       "      <th>2017</th>\n",
       "      <th>2018</th>\n",
       "      <th>2019</th>\n",
       "      <th>2020</th>\n",
       "      <th>2021</th>\n",
       "      <th>2022</th>\n",
       "      <th>2023</th>\n",
       "      <th>...</th>\n",
       "      <th>2081</th>\n",
       "      <th>2082</th>\n",
       "      <th>2083</th>\n",
       "      <th>2084</th>\n",
       "      <th>2085</th>\n",
       "      <th>2086</th>\n",
       "      <th>2087</th>\n",
       "      <th>2088</th>\n",
       "      <th>2089</th>\n",
       "      <th>2090</th>\n",
       "    </tr>\n",
       "  </thead>\n",
       "  <tbody>\n",
       "    <tr>\n",
       "      <th>0.05</th>\n",
       "      <td>0.866858</td>\n",
       "      <td>0.843038</td>\n",
       "      <td>0.834150</td>\n",
       "      <td>0.813691</td>\n",
       "      <td>0.816743</td>\n",
       "      <td>0.832093</td>\n",
       "      <td>0.829878</td>\n",
       "      <td>0.835557</td>\n",
       "      <td>0.832294</td>\n",
       "      <td>0.840257</td>\n",
       "      <td>...</td>\n",
       "      <td>0.979462</td>\n",
       "      <td>0.985609</td>\n",
       "      <td>0.979082</td>\n",
       "      <td>0.985122</td>\n",
       "      <td>1.005921</td>\n",
       "      <td>1.014641</td>\n",
       "      <td>1.038311</td>\n",
       "      <td>1.044888</td>\n",
       "      <td>1.041436</td>\n",
       "      <td>1.063242</td>\n",
       "    </tr>\n",
       "    <tr>\n",
       "      <th>0.50</th>\n",
       "      <td>1.005072</td>\n",
       "      <td>0.983752</td>\n",
       "      <td>0.977902</td>\n",
       "      <td>0.956615</td>\n",
       "      <td>0.952765</td>\n",
       "      <td>0.967481</td>\n",
       "      <td>0.965496</td>\n",
       "      <td>0.979769</td>\n",
       "      <td>0.970556</td>\n",
       "      <td>0.978789</td>\n",
       "      <td>...</td>\n",
       "      <td>1.160152</td>\n",
       "      <td>1.165884</td>\n",
       "      <td>1.153982</td>\n",
       "      <td>1.172619</td>\n",
       "      <td>1.195620</td>\n",
       "      <td>1.208170</td>\n",
       "      <td>1.238301</td>\n",
       "      <td>1.246886</td>\n",
       "      <td>1.239534</td>\n",
       "      <td>1.271952</td>\n",
       "    </tr>\n",
       "    <tr>\n",
       "      <th>0.95</th>\n",
       "      <td>1.174680</td>\n",
       "      <td>1.160392</td>\n",
       "      <td>1.144270</td>\n",
       "      <td>1.120806</td>\n",
       "      <td>1.110349</td>\n",
       "      <td>1.132344</td>\n",
       "      <td>1.127655</td>\n",
       "      <td>1.149445</td>\n",
       "      <td>1.139111</td>\n",
       "      <td>1.154443</td>\n",
       "      <td>...</td>\n",
       "      <td>1.381560</td>\n",
       "      <td>1.391707</td>\n",
       "      <td>1.376933</td>\n",
       "      <td>1.403607</td>\n",
       "      <td>1.429818</td>\n",
       "      <td>1.453771</td>\n",
       "      <td>1.490585</td>\n",
       "      <td>1.504912</td>\n",
       "      <td>1.504275</td>\n",
       "      <td>1.536990</td>\n",
       "    </tr>\n",
       "  </tbody>\n",
       "</table>\n",
       "<p>3 rows × 77 columns</p>\n",
       "</div>"
      ],
      "text/plain": [
       "          2014      2015      2016      2017      2018      2019      2020  \\\n",
       "0.05  0.866858  0.843038  0.834150  0.813691  0.816743  0.832093  0.829878   \n",
       "0.50  1.005072  0.983752  0.977902  0.956615  0.952765  0.967481  0.965496   \n",
       "0.95  1.174680  1.160392  1.144270  1.120806  1.110349  1.132344  1.127655   \n",
       "\n",
       "          2021      2022      2023    ...         2081      2082      2083  \\\n",
       "0.05  0.835557  0.832294  0.840257    ...     0.979462  0.985609  0.979082   \n",
       "0.50  0.979769  0.970556  0.978789    ...     1.160152  1.165884  1.153982   \n",
       "0.95  1.149445  1.139111  1.154443    ...     1.381560  1.391707  1.376933   \n",
       "\n",
       "          2084      2085      2086      2087      2088      2089      2090  \n",
       "0.05  0.985122  1.005921  1.014641  1.038311  1.044888  1.041436  1.063242  \n",
       "0.50  1.172619  1.195620  1.208170  1.238301  1.246886  1.239534  1.271952  \n",
       "0.95  1.403607  1.429818  1.453771  1.490585  1.504912  1.504275  1.536990  \n",
       "\n",
       "[3 rows x 77 columns]"
      ]
     },
     "execution_count": 410,
     "metadata": {},
     "output_type": "execute_result"
    }
   ],
   "source": [
    "dfpctls.groupby(dfpctls.index).mean()"
   ]
  },
  {
   "cell_type": "code",
   "execution_count": 377,
   "metadata": {},
   "outputs": [
    {
     "data": {
      "text/plain": [
       "(<matplotlib.figure.Figure at 0x1224c50b8>,\n",
       " <matplotlib.figure.Figure at 0x12be6aa20>)"
      ]
     },
     "execution_count": 377,
     "metadata": {},
     "output_type": "execute_result"
    },
    {
     "data": {
      "text/plain": [
       "<matplotlib.figure.Figure at 0x123b3ac88>"
      ]
     },
     "metadata": {},
     "output_type": "display_data"
    },
    {
     "data": {
      "image/png": "[encoded data removed]",
      "text/plain": [
       "<matplotlib.figure.Figure at 0x1224c50b8>"
      ]
     },
     "metadata": {},
     "output_type": "display_data"
    },
    {
     "data": {
      "image/png": "[encoded data removed]",
      "text/plain": [
       "<matplotlib.figure.Figure at 0x12be6aa20>"
      ]
     },
     "metadata": {},
     "output_type": "display_data"
    }
   ],
   "source": [
    "plot_fivepctls(fivepctldf, votepctl, startyear, endyear, thresh, coord)"
   ]
  },
  {
   "cell_type": "code",
   "execution_count": 380,
   "metadata": {},
   "outputs": [
    {
     "data": {
      "text/plain": [
       "<matplotlib.figure.Figure at 0x122ee4588>"
      ]
     },
     "metadata": {},
     "output_type": "display_data"
    },
    {
     "data": {
      "image/png": "[encoded data removed]",
      "text/plain": [
       "<matplotlib.figure.Figure at 0x12761ce48>"
      ]
     },
     "metadata": {},
     "output_type": "display_data"
    },
    {
     "data": {
      "image/png": "[encoded data removed]",
      "text/plain": [
       "<matplotlib.figure.Figure at 0x12558d438>"
      ]
     },
     "metadata": {},
     "output_type": "display_data"
    }
   ],
   "source": [
    "\n",
    "coord='(48.71875, -122.09375)'\n",
    "startyear=2013\n",
    "endyear=2090\n",
    "thresh=1\n",
    "paths=dfpathsB1\n",
    "\n",
    "make_plot(coord, startyear, endyear, thresh, paths)"
   ]
  },
  {
   "cell_type": "code",
   "execution_count": 309,
   "metadata": {},
   "outputs": [],
   "source": [
    "dfsource=pd.read_csv('reference_csv/ccsm3_A1B.csv')"
   ]
  },
  {
   "cell_type": "code",
   "execution_count": 382,
   "metadata": {},
   "outputs": [],
   "source": [
    "cols=dfsource.columns"
   ]
  },
  {
   "cell_type": "code",
   "execution_count": 392,
   "metadata": {},
   "outputs": [],
   "source": [
    "coordlist=pd.DataFrame(cols)"
   ]
  },
  {
   "cell_type": "code",
   "execution_count": 393,
   "metadata": {},
   "outputs": [
    {
     "data": {
      "text/html": [
       "<div>\n",
       "<style scoped>\n",
       "    .dataframe tbody tr th:only-of-type {\n",
       "        vertical-align: middle;\n",
       "    }\n",
       "\n",
       "    .dataframe tbody tr th {\n",
       "        vertical-align: top;\n",
       "    }\n",
       "\n",
       "    .dataframe thead th {\n",
       "        text-align: right;\n",
       "    }\n",
       "</style>\n",
       "<table border=\"1\" class=\"dataframe\">\n",
       "  <thead>\n",
       "    <tr style=\"text-align: right;\">\n",
       "      <th></th>\n",
       "      <th>0</th>\n",
       "    </tr>\n",
       "  </thead>\n",
       "  <tbody>\n",
       "    <tr>\n",
       "      <th>0</th>\n",
       "      <td>wateryear</td>\n",
       "    </tr>\n",
       "    <tr>\n",
       "      <th>1</th>\n",
       "      <td>(45.03125, -124.65625)</td>\n",
       "    </tr>\n",
       "    <tr>\n",
       "      <th>2</th>\n",
       "      <td>(45.03125, -124.59375)</td>\n",
       "    </tr>\n",
       "    <tr>\n",
       "      <th>3</th>\n",
       "      <td>(45.03125, -124.53125)</td>\n",
       "    </tr>\n",
       "    <tr>\n",
       "      <th>4</th>\n",
       "      <td>(45.03125, -124.46875)</td>\n",
       "    </tr>\n",
       "    <tr>\n",
       "      <th>5</th>\n",
       "      <td>(45.03125, -124.40625)</td>\n",
       "    </tr>\n",
       "    <tr>\n",
       "      <th>6</th>\n",
       "      <td>(45.03125, -124.34375)</td>\n",
       "    </tr>\n",
       "    <tr>\n",
       "      <th>7</th>\n",
       "      <td>(45.03125, -124.28125)</td>\n",
       "    </tr>\n",
       "    <tr>\n",
       "      <th>8</th>\n",
       "      <td>(45.03125, -124.21875)</td>\n",
       "    </tr>\n",
       "    <tr>\n",
       "      <th>9</th>\n",
       "      <td>(45.03125, -124.15625)</td>\n",
       "    </tr>\n",
       "    <tr>\n",
       "      <th>10</th>\n",
       "      <td>(45.03125, -124.09375)</td>\n",
       "    </tr>\n",
       "    <tr>\n",
       "      <th>11</th>\n",
       "      <td>(45.03125, -124.03125)</td>\n",
       "    </tr>\n",
       "    <tr>\n",
       "      <th>12</th>\n",
       "      <td>(45.03125, -123.96875)</td>\n",
       "    </tr>\n",
       "    <tr>\n",
       "      <th>13</th>\n",
       "      <td>(45.03125, -123.90625)</td>\n",
       "    </tr>\n",
       "    <tr>\n",
       "      <th>14</th>\n",
       "      <td>(45.03125, -123.84375)</td>\n",
       "    </tr>\n",
       "    <tr>\n",
       "      <th>15</th>\n",
       "      <td>(45.03125, -123.78125)</td>\n",
       "    </tr>\n",
       "    <tr>\n",
       "      <th>16</th>\n",
       "      <td>(45.03125, -123.71875)</td>\n",
       "    </tr>\n",
       "    <tr>\n",
       "      <th>17</th>\n",
       "      <td>(45.03125, -123.65625)</td>\n",
       "    </tr>\n",
       "    <tr>\n",
       "      <th>18</th>\n",
       "      <td>(45.03125, -123.59375)</td>\n",
       "    </tr>\n",
       "    <tr>\n",
       "      <th>19</th>\n",
       "      <td>(45.03125, -123.53125)</td>\n",
       "    </tr>\n",
       "    <tr>\n",
       "      <th>20</th>\n",
       "      <td>(45.03125, -123.46875)</td>\n",
       "    </tr>\n",
       "    <tr>\n",
       "      <th>21</th>\n",
       "      <td>(45.03125, -123.40625)</td>\n",
       "    </tr>\n",
       "    <tr>\n",
       "      <th>22</th>\n",
       "      <td>(45.03125, -123.34375)</td>\n",
       "    </tr>\n",
       "    <tr>\n",
       "      <th>23</th>\n",
       "      <td>(45.03125, -123.28125)</td>\n",
       "    </tr>\n",
       "    <tr>\n",
       "      <th>24</th>\n",
       "      <td>(45.03125, -123.21875)</td>\n",
       "    </tr>\n",
       "    <tr>\n",
       "      <th>25</th>\n",
       "      <td>(45.03125, -123.15625)</td>\n",
       "    </tr>\n",
       "    <tr>\n",
       "      <th>26</th>\n",
       "      <td>(45.03125, -123.09375)</td>\n",
       "    </tr>\n",
       "    <tr>\n",
       "      <th>27</th>\n",
       "      <td>(45.03125, -123.03125)</td>\n",
       "    </tr>\n",
       "    <tr>\n",
       "      <th>28</th>\n",
       "      <td>(45.03125, -122.96875)</td>\n",
       "    </tr>\n",
       "    <tr>\n",
       "      <th>29</th>\n",
       "      <td>(45.03125, -122.90625)</td>\n",
       "    </tr>\n",
       "    <tr>\n",
       "      <th>...</th>\n",
       "      <td>...</td>\n",
       "    </tr>\n",
       "    <tr>\n",
       "      <th>9403</th>\n",
       "      <td>(49.46875, -118.34375)</td>\n",
       "    </tr>\n",
       "    <tr>\n",
       "      <th>9404</th>\n",
       "      <td>(49.46875, -118.28125)</td>\n",
       "    </tr>\n",
       "    <tr>\n",
       "      <th>9405</th>\n",
       "      <td>(49.46875, -118.21875)</td>\n",
       "    </tr>\n",
       "    <tr>\n",
       "      <th>9406</th>\n",
       "      <td>(49.46875, -118.15625)</td>\n",
       "    </tr>\n",
       "    <tr>\n",
       "      <th>9407</th>\n",
       "      <td>(49.46875, -118.09375)</td>\n",
       "    </tr>\n",
       "    <tr>\n",
       "      <th>9408</th>\n",
       "      <td>(49.46875, -118.03125)</td>\n",
       "    </tr>\n",
       "    <tr>\n",
       "      <th>9409</th>\n",
       "      <td>(49.46875, -117.96875)</td>\n",
       "    </tr>\n",
       "    <tr>\n",
       "      <th>9410</th>\n",
       "      <td>(49.46875, -117.90625)</td>\n",
       "    </tr>\n",
       "    <tr>\n",
       "      <th>9411</th>\n",
       "      <td>(49.46875, -117.84375)</td>\n",
       "    </tr>\n",
       "    <tr>\n",
       "      <th>9412</th>\n",
       "      <td>(49.46875, -117.78125)</td>\n",
       "    </tr>\n",
       "    <tr>\n",
       "      <th>9413</th>\n",
       "      <td>(49.46875, -117.71875)</td>\n",
       "    </tr>\n",
       "    <tr>\n",
       "      <th>9414</th>\n",
       "      <td>(49.46875, -117.65625)</td>\n",
       "    </tr>\n",
       "    <tr>\n",
       "      <th>9415</th>\n",
       "      <td>(49.46875, -117.59375)</td>\n",
       "    </tr>\n",
       "    <tr>\n",
       "      <th>9416</th>\n",
       "      <td>(49.46875, -117.53125)</td>\n",
       "    </tr>\n",
       "    <tr>\n",
       "      <th>9417</th>\n",
       "      <td>(49.46875, -117.46875)</td>\n",
       "    </tr>\n",
       "    <tr>\n",
       "      <th>9418</th>\n",
       "      <td>(49.46875, -117.40625)</td>\n",
       "    </tr>\n",
       "    <tr>\n",
       "      <th>9419</th>\n",
       "      <td>(49.46875, -117.34375)</td>\n",
       "    </tr>\n",
       "    <tr>\n",
       "      <th>9420</th>\n",
       "      <td>(49.46875, -117.28125)</td>\n",
       "    </tr>\n",
       "    <tr>\n",
       "      <th>9421</th>\n",
       "      <td>(49.46875, -117.21875)</td>\n",
       "    </tr>\n",
       "    <tr>\n",
       "      <th>9422</th>\n",
       "      <td>(49.46875, -117.15625)</td>\n",
       "    </tr>\n",
       "    <tr>\n",
       "      <th>9423</th>\n",
       "      <td>(49.46875, -117.09375)</td>\n",
       "    </tr>\n",
       "    <tr>\n",
       "      <th>9424</th>\n",
       "      <td>(49.46875, -117.03125)</td>\n",
       "    </tr>\n",
       "    <tr>\n",
       "      <th>9425</th>\n",
       "      <td>(49.46875, -116.96875)</td>\n",
       "    </tr>\n",
       "    <tr>\n",
       "      <th>9426</th>\n",
       "      <td>(49.46875, -116.90625)</td>\n",
       "    </tr>\n",
       "    <tr>\n",
       "      <th>9427</th>\n",
       "      <td>(49.46875, -116.84375)</td>\n",
       "    </tr>\n",
       "    <tr>\n",
       "      <th>9428</th>\n",
       "      <td>(49.46875, -116.78125)</td>\n",
       "    </tr>\n",
       "    <tr>\n",
       "      <th>9429</th>\n",
       "      <td>(49.46875, -116.71875)</td>\n",
       "    </tr>\n",
       "    <tr>\n",
       "      <th>9430</th>\n",
       "      <td>(49.46875, -116.65625)</td>\n",
       "    </tr>\n",
       "    <tr>\n",
       "      <th>9431</th>\n",
       "      <td>(49.46875, -116.59375)</td>\n",
       "    </tr>\n",
       "    <tr>\n",
       "      <th>9432</th>\n",
       "      <td>(49.46875, -116.53125)</td>\n",
       "    </tr>\n",
       "  </tbody>\n",
       "</table>\n",
       "<p>9433 rows × 1 columns</p>\n",
       "</div>"
      ],
      "text/plain": [
       "                           0\n",
       "0                  wateryear\n",
       "1     (45.03125, -124.65625)\n",
       "2     (45.03125, -124.59375)\n",
       "3     (45.03125, -124.53125)\n",
       "4     (45.03125, -124.46875)\n",
       "5     (45.03125, -124.40625)\n",
       "6     (45.03125, -124.34375)\n",
       "7     (45.03125, -124.28125)\n",
       "8     (45.03125, -124.21875)\n",
       "9     (45.03125, -124.15625)\n",
       "10    (45.03125, -124.09375)\n",
       "11    (45.03125, -124.03125)\n",
       "12    (45.03125, -123.96875)\n",
       "13    (45.03125, -123.90625)\n",
       "14    (45.03125, -123.84375)\n",
       "15    (45.03125, -123.78125)\n",
       "16    (45.03125, -123.71875)\n",
       "17    (45.03125, -123.65625)\n",
       "18    (45.03125, -123.59375)\n",
       "19    (45.03125, -123.53125)\n",
       "20    (45.03125, -123.46875)\n",
       "21    (45.03125, -123.40625)\n",
       "22    (45.03125, -123.34375)\n",
       "23    (45.03125, -123.28125)\n",
       "24    (45.03125, -123.21875)\n",
       "25    (45.03125, -123.15625)\n",
       "26    (45.03125, -123.09375)\n",
       "27    (45.03125, -123.03125)\n",
       "28    (45.03125, -122.96875)\n",
       "29    (45.03125, -122.90625)\n",
       "...                      ...\n",
       "9403  (49.46875, -118.34375)\n",
       "9404  (49.46875, -118.28125)\n",
       "9405  (49.46875, -118.21875)\n",
       "9406  (49.46875, -118.15625)\n",
       "9407  (49.46875, -118.09375)\n",
       "9408  (49.46875, -118.03125)\n",
       "9409  (49.46875, -117.96875)\n",
       "9410  (49.46875, -117.90625)\n",
       "9411  (49.46875, -117.84375)\n",
       "9412  (49.46875, -117.78125)\n",
       "9413  (49.46875, -117.71875)\n",
       "9414  (49.46875, -117.65625)\n",
       "9415  (49.46875, -117.59375)\n",
       "9416  (49.46875, -117.53125)\n",
       "9417  (49.46875, -117.46875)\n",
       "9418  (49.46875, -117.40625)\n",
       "9419  (49.46875, -117.34375)\n",
       "9420  (49.46875, -117.28125)\n",
       "9421  (49.46875, -117.21875)\n",
       "9422  (49.46875, -117.15625)\n",
       "9423  (49.46875, -117.09375)\n",
       "9424  (49.46875, -117.03125)\n",
       "9425  (49.46875, -116.96875)\n",
       "9426  (49.46875, -116.90625)\n",
       "9427  (49.46875, -116.84375)\n",
       "9428  (49.46875, -116.78125)\n",
       "9429  (49.46875, -116.71875)\n",
       "9430  (49.46875, -116.65625)\n",
       "9431  (49.46875, -116.59375)\n",
       "9432  (49.46875, -116.53125)\n",
       "\n",
       "[9433 rows x 1 columns]"
      ]
     },
     "execution_count": 393,
     "metadata": {},
     "output_type": "execute_result"
    }
   ],
   "source": [
    "coordlist \n",
    "#find diagonal coordinates "
   ]
  },
  {
   "cell_type": "code",
   "execution_count": null,
   "metadata": {
    "collapsed": true
   },
   "outputs": [],
   "source": [
    "coordlist.to_csv('allcoordinates.csv')"
   ]
  },
  {
   "cell_type": "code",
   "execution_count": 739,
   "metadata": {
    "collapsed": true
   },
   "outputs": [],
   "source": [
    "lowdf=gev_samples_allyears(startyear=2020, coord='(48.71875, -122.09375)', endyear=2099, dfsource=dfexample)"
   ]
  },
  {
   "cell_type": "code",
   "execution_count": 730,
   "metadata": {},
   "outputs": [
    {
     "data": {
      "text/plain": [
       "469.04809389146425"
      ]
     },
     "execution_count": 730,
     "metadata": {},
     "output_type": "execute_result"
    }
   ],
   "source": [
    "make_gev(dataarray, pctl)"
   ]
  },
  {
   "cell_type": "code",
   "execution_count": 733,
   "metadata": {},
   "outputs": [
    {
     "data": {
      "text/plain": [
       "441.95518193848727"
      ]
     },
     "execution_count": 733,
     "metadata": {},
     "output_type": "execute_result"
    }
   ],
   "source": [
    "dataarray1=get_extreme_values(year=2017, coord='(48.71875, -122.09375)', dfsource=dfexample)\n",
    "make_gev(dataarray1, pctl)"
   ]
  },
  {
   "cell_type": "code",
   "execution_count": 740,
   "metadata": {},
   "outputs": [
    {
     "data": {
      "text/html": [
       "<div>\n",
       "<style scoped>\n",
       "    .dataframe tbody tr th:only-of-type {\n",
       "        vertical-align: middle;\n",
       "    }\n",
       "\n",
       "    .dataframe tbody tr th {\n",
       "        vertical-align: top;\n",
       "    }\n",
       "\n",
       "    .dataframe thead th {\n",
       "        text-align: right;\n",
       "    }\n",
       "</style>\n",
       "<table border=\"1\" class=\"dataframe\">\n",
       "  <thead>\n",
       "    <tr style=\"text-align: right;\">\n",
       "      <th></th>\n",
       "      <th>2020</th>\n",
       "      <th>2021</th>\n",
       "      <th>2022</th>\n",
       "      <th>2023</th>\n",
       "      <th>2024</th>\n",
       "      <th>2025</th>\n",
       "      <th>2026</th>\n",
       "      <th>2027</th>\n",
       "      <th>2028</th>\n",
       "      <th>2029</th>\n",
       "      <th>...</th>\n",
       "      <th>2090</th>\n",
       "      <th>2091</th>\n",
       "      <th>2092</th>\n",
       "      <th>2093</th>\n",
       "      <th>2094</th>\n",
       "      <th>2095</th>\n",
       "      <th>2096</th>\n",
       "      <th>2097</th>\n",
       "      <th>2098</th>\n",
       "      <th>2099</th>\n",
       "    </tr>\n",
       "  </thead>\n",
       "  <tbody>\n",
       "    <tr>\n",
       "      <th>0</th>\n",
       "      <td>385.000615</td>\n",
       "      <td>417.994715</td>\n",
       "      <td>436.271703</td>\n",
       "      <td>446.040871</td>\n",
       "      <td>477.389500</td>\n",
       "      <td>416.969386</td>\n",
       "      <td>425.112145</td>\n",
       "      <td>380.824898</td>\n",
       "      <td>454.153478</td>\n",
       "      <td>450.714069</td>\n",
       "      <td>...</td>\n",
       "      <td>407.414298</td>\n",
       "      <td>457.169989</td>\n",
       "      <td>443.028264</td>\n",
       "      <td>462.966723</td>\n",
       "      <td>466.451376</td>\n",
       "      <td>485.663364</td>\n",
       "      <td>544.942137</td>\n",
       "      <td>490.143486</td>\n",
       "      <td>527.766550</td>\n",
       "      <td>456.740049</td>\n",
       "    </tr>\n",
       "    <tr>\n",
       "      <th>1</th>\n",
       "      <td>390.350753</td>\n",
       "      <td>410.481084</td>\n",
       "      <td>382.578168</td>\n",
       "      <td>428.083135</td>\n",
       "      <td>421.895354</td>\n",
       "      <td>475.408226</td>\n",
       "      <td>378.143194</td>\n",
       "      <td>451.430897</td>\n",
       "      <td>432.988684</td>\n",
       "      <td>456.850569</td>\n",
       "      <td>...</td>\n",
       "      <td>416.172862</td>\n",
       "      <td>383.309920</td>\n",
       "      <td>537.735565</td>\n",
       "      <td>499.106514</td>\n",
       "      <td>416.247357</td>\n",
       "      <td>524.838839</td>\n",
       "      <td>453.771328</td>\n",
       "      <td>505.586759</td>\n",
       "      <td>403.405605</td>\n",
       "      <td>458.466197</td>\n",
       "    </tr>\n",
       "  </tbody>\n",
       "</table>\n",
       "<p>2 rows × 80 columns</p>\n",
       "</div>"
      ],
      "text/plain": [
       "         2020        2021        2022        2023        2024        2025  \\\n",
       "0  385.000615  417.994715  436.271703  446.040871  477.389500  416.969386   \n",
       "1  390.350753  410.481084  382.578168  428.083135  421.895354  475.408226   \n",
       "\n",
       "         2026        2027        2028        2029     ...            2090  \\\n",
       "0  425.112145  380.824898  454.153478  450.714069     ...      407.414298   \n",
       "1  378.143194  451.430897  432.988684  456.850569     ...      416.172862   \n",
       "\n",
       "         2091        2092        2093        2094        2095        2096  \\\n",
       "0  457.169989  443.028264  462.966723  466.451376  485.663364  544.942137   \n",
       "1  383.309920  537.735565  499.106514  416.247357  524.838839  453.771328   \n",
       "\n",
       "         2097        2098        2099  \n",
       "0  490.143486  527.766550  456.740049  \n",
       "1  505.586759  403.405605  458.466197  \n",
       "\n",
       "[2 rows x 80 columns]"
      ]
     },
     "execution_count": 740,
     "metadata": {},
     "output_type": "execute_result"
    }
   ],
   "source": [
    "lowdf.head(2)"
   ]
  },
  {
   "cell_type": "code",
   "execution_count": 741,
   "metadata": {
    "collapsed": true
   },
   "outputs": [],
   "source": [
    "ratiodf=make_ratios(lowdf)\n",
    "\n",
    "ratiodfbeta=ratiodf**.5"
   ]
  },
  {
   "cell_type": "code",
   "execution_count": 742,
   "metadata": {},
   "outputs": [
    {
     "data": {
      "text/html": [
       "<div>\n",
       "<style scoped>\n",
       "    .dataframe tbody tr th:only-of-type {\n",
       "        vertical-align: middle;\n",
       "    }\n",
       "\n",
       "    .dataframe tbody tr th {\n",
       "        vertical-align: top;\n",
       "    }\n",
       "\n",
       "    .dataframe thead th {\n",
       "        text-align: right;\n",
       "    }\n",
       "</style>\n",
       "<table border=\"1\" class=\"dataframe\">\n",
       "  <thead>\n",
       "    <tr style=\"text-align: right;\">\n",
       "      <th></th>\n",
       "      <th>2021</th>\n",
       "      <th>2022</th>\n",
       "      <th>2023</th>\n",
       "      <th>2024</th>\n",
       "      <th>2025</th>\n",
       "      <th>2026</th>\n",
       "      <th>2027</th>\n",
       "      <th>2028</th>\n",
       "      <th>2029</th>\n",
       "      <th>2030</th>\n",
       "      <th>...</th>\n",
       "      <th>2090</th>\n",
       "      <th>2091</th>\n",
       "      <th>2092</th>\n",
       "      <th>2093</th>\n",
       "      <th>2094</th>\n",
       "      <th>2095</th>\n",
       "      <th>2096</th>\n",
       "      <th>2097</th>\n",
       "      <th>2098</th>\n",
       "      <th>2099</th>\n",
       "    </tr>\n",
       "  </thead>\n",
       "  <tbody>\n",
       "    <tr>\n",
       "      <th>0</th>\n",
       "      <td>1.085699</td>\n",
       "      <td>1.133171</td>\n",
       "      <td>1.158546</td>\n",
       "      <td>1.239971</td>\n",
       "      <td>1.083036</td>\n",
       "      <td>1.104186</td>\n",
       "      <td>0.989154</td>\n",
       "      <td>1.179618</td>\n",
       "      <td>1.170684</td>\n",
       "      <td>1.030298</td>\n",
       "      <td>...</td>\n",
       "      <td>1.058217</td>\n",
       "      <td>1.187453</td>\n",
       "      <td>1.150721</td>\n",
       "      <td>1.202509</td>\n",
       "      <td>1.211560</td>\n",
       "      <td>1.261461</td>\n",
       "      <td>1.415432</td>\n",
       "      <td>1.273098</td>\n",
       "      <td>1.370820</td>\n",
       "      <td>1.186336</td>\n",
       "    </tr>\n",
       "    <tr>\n",
       "      <th>1</th>\n",
       "      <td>1.051570</td>\n",
       "      <td>0.980088</td>\n",
       "      <td>1.096663</td>\n",
       "      <td>1.080811</td>\n",
       "      <td>1.217900</td>\n",
       "      <td>0.968727</td>\n",
       "      <td>1.156475</td>\n",
       "      <td>1.109230</td>\n",
       "      <td>1.170359</td>\n",
       "      <td>0.987800</td>\n",
       "      <td>...</td>\n",
       "      <td>1.066151</td>\n",
       "      <td>0.981963</td>\n",
       "      <td>1.377570</td>\n",
       "      <td>1.278610</td>\n",
       "      <td>1.066342</td>\n",
       "      <td>1.344531</td>\n",
       "      <td>1.162471</td>\n",
       "      <td>1.295211</td>\n",
       "      <td>1.033444</td>\n",
       "      <td>1.174498</td>\n",
       "    </tr>\n",
       "    <tr>\n",
       "      <th>2</th>\n",
       "      <td>1.035137</td>\n",
       "      <td>0.959020</td>\n",
       "      <td>0.956779</td>\n",
       "      <td>0.951840</td>\n",
       "      <td>1.005027</td>\n",
       "      <td>0.978149</td>\n",
       "      <td>0.879599</td>\n",
       "      <td>0.915687</td>\n",
       "      <td>1.050578</td>\n",
       "      <td>0.874313</td>\n",
       "      <td>...</td>\n",
       "      <td>0.913664</td>\n",
       "      <td>0.964960</td>\n",
       "      <td>1.087790</td>\n",
       "      <td>1.120613</td>\n",
       "      <td>1.270146</td>\n",
       "      <td>1.000053</td>\n",
       "      <td>1.043378</td>\n",
       "      <td>1.106202</td>\n",
       "      <td>1.079561</td>\n",
       "      <td>0.874040</td>\n",
       "    </tr>\n",
       "  </tbody>\n",
       "</table>\n",
       "<p>3 rows × 79 columns</p>\n",
       "</div>"
      ],
      "text/plain": [
       "       2021      2022      2023      2024      2025      2026      2027  \\\n",
       "0  1.085699  1.133171  1.158546  1.239971  1.083036  1.104186  0.989154   \n",
       "1  1.051570  0.980088  1.096663  1.080811  1.217900  0.968727  1.156475   \n",
       "2  1.035137  0.959020  0.956779  0.951840  1.005027  0.978149  0.879599   \n",
       "\n",
       "       2028      2029      2030    ...         2090      2091      2092  \\\n",
       "0  1.179618  1.170684  1.030298    ...     1.058217  1.187453  1.150721   \n",
       "1  1.109230  1.170359  0.987800    ...     1.066151  0.981963  1.377570   \n",
       "2  0.915687  1.050578  0.874313    ...     0.913664  0.964960  1.087790   \n",
       "\n",
       "       2093      2094      2095      2096      2097      2098      2099  \n",
       "0  1.202509  1.211560  1.261461  1.415432  1.273098  1.370820  1.186336  \n",
       "1  1.278610  1.066342  1.344531  1.162471  1.295211  1.033444  1.174498  \n",
       "2  1.120613  1.270146  1.000053  1.043378  1.106202  1.079561  0.874040  \n",
       "\n",
       "[3 rows x 79 columns]"
      ]
     },
     "execution_count": 742,
     "metadata": {},
     "output_type": "execute_result"
    }
   ],
   "source": [
    "ratiodf[:3]"
   ]
  },
  {
   "cell_type": "code",
   "execution_count": 743,
   "metadata": {
    "collapsed": true
   },
   "outputs": [],
   "source": [
    "quantilebetadf=find_percentiles(ratiodfbeta)"
   ]
  },
  {
   "cell_type": "code",
   "execution_count": 744,
   "metadata": {
    "collapsed": true
   },
   "outputs": [],
   "source": [
    "quantiledf=find_percentiles(ratiodf)\n"
   ]
  },
  {
   "cell_type": "code",
   "execution_count": 915,
   "metadata": {},
   "outputs": [
    {
     "data": {
      "text/html": [
       "<div>\n",
       "<style scoped>\n",
       "    .dataframe tbody tr th:only-of-type {\n",
       "        vertical-align: middle;\n",
       "    }\n",
       "\n",
       "    .dataframe tbody tr th {\n",
       "        vertical-align: top;\n",
       "    }\n",
       "\n",
       "    .dataframe thead th {\n",
       "        text-align: right;\n",
       "    }\n",
       "</style>\n",
       "<table border=\"1\" class=\"dataframe\">\n",
       "  <thead>\n",
       "    <tr style=\"text-align: right;\">\n",
       "      <th></th>\n",
       "      <th>2021</th>\n",
       "      <th>2022</th>\n",
       "      <th>2023</th>\n",
       "      <th>2024</th>\n",
       "      <th>2025</th>\n",
       "      <th>2026</th>\n",
       "      <th>2027</th>\n",
       "      <th>2028</th>\n",
       "      <th>2029</th>\n",
       "      <th>2030</th>\n",
       "      <th>2031</th>\n",
       "      <th>2032</th>\n",
       "      <th>2033</th>\n",
       "      <th>2034</th>\n",
       "      <th>2035</th>\n",
       "      <th>2036</th>\n",
       "      <th>2037</th>\n",
       "      <th>2038</th>\n",
       "      <th>2039</th>\n",
       "      <th>2040</th>\n",
       "    </tr>\n",
       "  </thead>\n",
       "  <tbody>\n",
       "    <tr>\n",
       "      <th>0.05</th>\n",
       "      <td>0.859578</td>\n",
       "      <td>0.860035</td>\n",
       "      <td>0.879676</td>\n",
       "      <td>0.876013</td>\n",
       "      <td>0.877025</td>\n",
       "      <td>0.870076</td>\n",
       "      <td>0.872178</td>\n",
       "      <td>0.872116</td>\n",
       "      <td>0.863776</td>\n",
       "      <td>0.872974</td>\n",
       "      <td>0.865449</td>\n",
       "      <td>0.877619</td>\n",
       "      <td>0.880338</td>\n",
       "      <td>0.881638</td>\n",
       "      <td>0.860613</td>\n",
       "      <td>0.860555</td>\n",
       "      <td>0.911575</td>\n",
       "      <td>0.929652</td>\n",
       "      <td>0.940694</td>\n",
       "      <td>0.999703</td>\n",
       "    </tr>\n",
       "    <tr>\n",
       "      <th>0.95</th>\n",
       "      <td>1.144779</td>\n",
       "      <td>1.131923</td>\n",
       "      <td>1.165892</td>\n",
       "      <td>1.188283</td>\n",
       "      <td>1.199332</td>\n",
       "      <td>1.192474</td>\n",
       "      <td>1.183380</td>\n",
       "      <td>1.170710</td>\n",
       "      <td>1.167622</td>\n",
       "      <td>1.166307</td>\n",
       "      <td>1.167709</td>\n",
       "      <td>1.173261</td>\n",
       "      <td>1.185771</td>\n",
       "      <td>1.156239</td>\n",
       "      <td>1.151875</td>\n",
       "      <td>1.149298</td>\n",
       "      <td>1.201630</td>\n",
       "      <td>1.224384</td>\n",
       "      <td>1.255599</td>\n",
       "      <td>1.297353</td>\n",
       "    </tr>\n",
       "  </tbody>\n",
       "</table>\n",
       "</div>"
      ],
      "text/plain": [
       "          2021      2022      2023      2024      2025      2026      2027  \\\n",
       "0.05  0.859578  0.860035  0.879676  0.876013  0.877025  0.870076  0.872178   \n",
       "0.95  1.144779  1.131923  1.165892  1.188283  1.199332  1.192474  1.183380   \n",
       "\n",
       "          2028      2029      2030      2031      2032      2033      2034  \\\n",
       "0.05  0.872116  0.863776  0.872974  0.865449  0.877619  0.880338  0.881638   \n",
       "0.95  1.170710  1.167622  1.166307  1.167709  1.173261  1.185771  1.156239   \n",
       "\n",
       "          2035      2036      2037      2038      2039      2040  \n",
       "0.05  0.860613  0.860555  0.911575  0.929652  0.940694  0.999703  \n",
       "0.95  1.151875  1.149298  1.201630  1.224384  1.255599  1.297353  "
      ]
     },
     "execution_count": 915,
     "metadata": {},
     "output_type": "execute_result"
    }
   ],
   "source": [
    "quantiledf.iloc[:,:20]"
   ]
  },
  {
   "cell_type": "code",
   "execution_count": 916,
   "metadata": {},
   "outputs": [
    {
     "data": {
      "text/plain": [
       "<matplotlib.figure.Figure at 0x11a74e128>"
      ]
     },
     "metadata": {},
     "output_type": "display_data"
    },
    {
     "data": {
      "image/png": "[encoded data removed]",
      "text/plain": [
       "<matplotlib.figure.Figure at 0x1229179e8>"
      ]
     },
     "metadata": {},
     "output_type": "display_data"
    }
   ],
   "source": [
    "plot_dist_quantiles(quantiledf.columns[0], quantiledf.columns[40], quantiledf.iloc[:40])"
   ]
  },
  {
   "cell_type": "code",
   "execution_count": 747,
   "metadata": {},
   "outputs": [
    {
     "data": {
      "text/plain": [
       "<matplotlib.figure.Figure at 0x122c1ea20>"
      ]
     },
     "metadata": {},
     "output_type": "display_data"
    },
    {
     "data": {
      "image/png": "[encoded data removed]",
      "text/plain": [
       "<matplotlib.figure.Figure at 0x122f01c18>"
      ]
     },
     "metadata": {},
     "output_type": "display_data"
    }
   ],
   "source": [
    "plot_dist_quantiles(quantilebetadf.columns[0], quantilebetadf.columns[-1], quantilebetadf)"
   ]
  },
  {
   "cell_type": "code",
   "execution_count": 673,
   "metadata": {},
   "outputs": [
    {
     "ename": "ModuleNotFoundError",
     "evalue": "No module named 'folium'",
     "output_type": "error",
     "traceback": [
      "\u001b[0;31m---------------------------------------------------------------------------\u001b[0m",
      "\u001b[0;31mModuleNotFoundError\u001b[0m                       Traceback (most recent call last)",
      "\u001b[0;32m<ipython-input-673-e92fc0be4c8c>\u001b[0m in \u001b[0;36m<module>\u001b[0;34m()\u001b[0m\n\u001b[0;32m----> 1\u001b[0;31m \u001b[0;32mimport\u001b[0m \u001b[0mfolium\u001b[0m\u001b[0;34m\u001b[0m\u001b[0m\n\u001b[0m\u001b[1;32m      2\u001b[0m \u001b[0;34m\u001b[0m\u001b[0m\n",
      "\u001b[0;31mModuleNotFoundError\u001b[0m: No module named 'folium'"
     ]
    }
   ],
   "source": [
    "import folium\n",
    "\n"
   ]
  },
  {
   "cell_type": "code",
   "execution_count": null,
   "metadata": {
    "collapsed": true
   },
   "outputs": [],
   "source": []
  },
  {
   "cell_type": "code",
   "execution_count": 527,
   "metadata": {
    "collapsed": true
   },
   "outputs": [],
   "source": [
    "locationparams=pd.read_csv('VIC_Castro_Regions.csv')\n",
    "locationparams.columns=['Lattitude', 'Longitude', 'Region']"
   ]
  },
  {
   "cell_type": "code",
   "execution_count": 571,
   "metadata": {
    "collapsed": true
   },
   "outputs": [],
   "source": [
    "locationparams.head(2)\n",
    "\n",
    "coord='(48.71875, -122.09375)'\n",
    "\n",
    "beta, TBFW=find_beta_TBFW(coord, locationparams)"
   ]
  },
  {
   "cell_type": "code",
   "execution_count": 572,
   "metadata": {},
   "outputs": [
    {
     "data": {
      "text/plain": [
       "0.16666666666666663"
      ]
     },
     "execution_count": 572,
     "metadata": {},
     "output_type": "execute_result"
    }
   ],
   "source": [
    "find_quantile(TBFW)"
   ]
  },
  {
   "cell_type": "code",
   "execution_count": null,
   "metadata": {
    "collapsed": true
   },
   "outputs": [],
   "source": []
  },
  {
   "cell_type": "code",
   "execution_count": null,
   "metadata": {
    "collapsed": true
   },
   "outputs": [],
   "source": []
  },
  {
   "cell_type": "code",
   "execution_count": null,
   "metadata": {
    "collapsed": true
   },
   "outputs": [],
   "source": []
  },
  {
   "cell_type": "code",
   "execution_count": 278,
   "metadata": {
    "collapsed": true
   },
   "outputs": [],
   "source": [
    "\n"
   ]
  },
  {
   "cell_type": "code",
   "execution_count": null,
   "metadata": {
    "collapsed": true
   },
   "outputs": [],
   "source": []
  },
  {
   "cell_type": "code",
   "execution_count": null,
   "metadata": {
    "collapsed": true
   },
   "outputs": [],
   "source": []
  },
  {
   "cell_type": "code",
   "execution_count": null,
   "metadata": {
    "collapsed": true
   },
   "outputs": [],
   "source": []
  },
  {
   "cell_type": "code",
   "execution_count": null,
   "metadata": {
    "collapsed": true,
    "scrolled": true
   },
   "outputs": [],
   "source": []
  },
  {
   "cell_type": "code",
   "execution_count": null,
   "metadata": {
    "collapsed": true
   },
   "outputs": [],
   "source": []
  },
  {
   "cell_type": "code",
   "execution_count": null,
   "metadata": {
    "collapsed": true
   },
   "outputs": [],
   "source": []
  },
  {
   "cell_type": "code",
   "execution_count": null,
   "metadata": {
    "collapsed": true
   },
   "outputs": [],
   "source": []
  },
  {
   "cell_type": "code",
   "execution_count": null,
   "metadata": {
    "collapsed": true
   },
   "outputs": [],
   "source": [
    "\n"
   ]
  },
  {
   "cell_type": "code",
   "execution_count": null,
   "metadata": {
    "collapsed": true
   },
   "outputs": [],
   "source": []
  },
  {
   "cell_type": "code",
   "execution_count": null,
   "metadata": {
    "collapsed": true
   },
   "outputs": [],
   "source": []
  },
  {
   "cell_type": "code",
   "execution_count": null,
   "metadata": {
    "collapsed": true
   },
   "outputs": [],
   "source": []
  },
  {
   "cell_type": "code",
   "execution_count": null,
   "metadata": {
    "collapsed": true
   },
   "outputs": [],
   "source": []
  },
  {
   "cell_type": "code",
   "execution_count": null,
   "metadata": {
    "collapsed": true
   },
   "outputs": [],
   "source": [
    "df=pd.DataFrame(coorddict, index=coordlist)\n",
    "df.head(4)"
   ]
  },
  {
   "cell_type": "code",
   "execution_count": null,
   "metadata": {
    "collapsed": true
   },
   "outputs": [],
   "source": []
  },
  {
   "cell_type": "code",
   "execution_count": null,
   "metadata": {
    "collapsed": true
   },
   "outputs": [],
   "source": [
    "group.variables['TIME']\n",
    "#number of base flows divided by lat and lon pairs\n",
    "#not apparent how it is organized "
   ]
  },
  {
   "cell_type": "code",
   "execution_count": null,
   "metadata": {
    "collapsed": true
   },
   "outputs": [],
   "source": [
    "\n"
   ]
  },
  {
   "cell_type": "code",
   "execution_count": null,
   "metadata": {
    "collapsed": true
   },
   "outputs": [],
   "source": []
  },
  {
   "cell_type": "code",
   "execution_count": null,
   "metadata": {
    "collapsed": true
   },
   "outputs": [],
   "source": []
  },
  {
   "cell_type": "code",
   "execution_count": null,
   "metadata": {
    "collapsed": true
   },
   "outputs": [],
   "source": []
  },
  {
   "cell_type": "code",
   "execution_count": null,
   "metadata": {
    "collapsed": true
   },
   "outputs": [],
   "source": []
  },
  {
   "cell_type": "code",
   "execution_count": 8,
   "metadata": {
    "collapsed": true
   },
   "outputs": [],
   "source": []
  },
  {
   "cell_type": "code",
   "execution_count": 17,
   "metadata": {
    "collapsed": true
   },
   "outputs": [],
   "source": [
    "\n"
   ]
  },
  {
   "cell_type": "code",
   "execution_count": 18,
   "metadata": {
    "collapsed": true
   },
   "outputs": [],
   "source": [
    "\n"
   ]
  },
  {
   "cell_type": "code",
   "execution_count": 19,
   "metadata": {
    "collapsed": true
   },
   "outputs": [],
   "source": []
  },
  {
   "cell_type": "code",
   "execution_count": 1,
   "metadata": {
    "collapsed": true
   },
   "outputs": [],
   "source": [
    "data_hashes=[]"
   ]
  },
  {
   "cell_type": "code",
   "execution_count": 2,
   "metadata": {
    "collapsed": true
   },
   "outputs": [],
   "source": [
    "def dl_one_netcdf(baselink, link):\n",
    "    #takes the baselink (refers to the model)\n",
    "    #takes link (refers to the month)\n",
    "    #returns the NetCDF  dataset to start parsing\n",
    "\n",
    "    response = requests.get(baselink+link)\n",
    "    #write binary for 'wb'\n",
    "    with open(\"placeholder.nc\", \"wb\") as f:\n",
    "    #     import pdb; pdb.set_trace()\n",
    "        data = response.content\n",
    "        f.write(data)\n",
    "    group = Dataset(\"placeholder.nc\")\n",
    "    return group"
   ]
  },
  {
   "cell_type": "code",
   "execution_count": 39,
   "metadata": {
    "collapsed": true
   },
   "outputs": [],
   "source": [
    "import requests\n",
    "import boto3\n",
    "\n",
    "s3=boto3.client(\"s3\")\n",
    "baselink=\"http://warm.atmos.washington.edu/2860/r7climate/hb2860_transient_runs/ccsm3_A1B/netcdf_daily/\"\n",
    "\n",
    "def retrieveurls(baselink):\n",
    "    response = requests.get(baselink)\n",
    "    soup=BeautifulSoup(response.text, \"html.parser\")\n",
    "    links=soup.find_all('a')\n",
    "    #Note the [5:] is specific for the baselink\n",
    "    #if using for another baselink, check manually the parse [5:]\n",
    "    linklist=[datedlink for datedlink in [l['href'] for l in links][5:] if int(datedlink[32:38])>=198510]\n",
    "    return linklist\n",
    "\n",
    "def makelink(baselink, link):\n",
    "    return baselink+link\n",
    "\n",
    "def fetch_data(url):\n",
    "    \"\"\"Fetch data from a URL, raise exception if status code not 200\"\"\"\n",
    "    response = requests.get(url)\n",
    "    if response.status_code != 200:\n",
    "        raise IOError(\"Unable to fetch data, status code \" +\n",
    "                      str(response.status_code) + \": \" +\n",
    "                      response.content.decode())\n",
    "    return response.content\n",
    "\n",
    "\n",
    "def fetch_netcdf(baselink, link):\n",
    "    \"\"\"Fetch NetCDF data from URL and return Dataset.\"\"\"\n",
    "    url=makelink(baselink, link)\n",
    "    data = fetch_data(url)    \n",
    "    s3.put_object(Bucket='uwdatabasefiles',\n",
    "             Key=link,\n",
    "             Body=data)\n",
    "    \n",
    "def fetch_all_files(baselink):\n",
    "    linklist=retrieveurls(baselink)\n",
    "    for link in linklist[:2]:\n",
    "        fetch_netcdf(baselink, link)\n",
    "    \n"
   ]
  },
  {
   "cell_type": "code",
   "execution_count": 23,
   "metadata": {
    "collapsed": true,
    "scrolled": true
   },
   "outputs": [],
   "source": [
    "#convert to json\n",
    "import requests\n",
    "import boto3\n",
    "import requests\n",
    "from bs4 import BeautifulSoup\n",
    "\n",
    "baselink=\"http://warm.atmos.washington.edu/2860/r7climate/hb2860_transient_runs/ccsm3_A1B/netcdf_daily/\"\n",
    "\n",
    "def retrieveurls(baselink):\n",
    "    response = requests.get(baselink)\n",
    "    soup=BeautifulSoup(response.text, \"html.parser\")\n",
    "    links=soup.find_all('a')\n",
    "    #Note the [5:] is specific for the baselink\n",
    "    #if using for another baselink, check manually the parse [5:]\n",
    "    linklist=[datedlink for datedlink in [l['href'] for l in links][5:] if int(datedlink[32:38])>=198510]\n",
    "    return linklist\n",
    "\n",
    "def convert_to_json(link):\n",
    "    s3=boto3.client(\"s3\")\n",
    "    response = s3.get_object(Bucket='uwdatabasefiles',\n",
    "                             Key=link)\n",
    "    with open(\"placeholder.json\", \"w\") as f:\n",
    "        data = response.content\n",
    "        f.write(data)\n",
    "        s3.put_object(Bucket='uwdatabasefiles',\n",
    "             Key=link.json,\n",
    "             Body=data)\n",
    "\n"
   ]
  },
  {
   "cell_type": "code",
   "execution_count": 25,
   "metadata": {
    "collapsed": true
   },
   "outputs": [],
   "source": [
    "s3=boto3.client(\"s3\")\n",
    "response = s3.get_object(Bucket='uwdatabasefiles',\n",
    "                             Key='hb2860_transient_runs.ccsm3_A1B.198510.nc')\n"
   ]
  },
  {
   "cell_type": "code",
   "execution_count": 46,
   "metadata": {
    "collapsed": true
   },
   "outputs": [],
   "source": [
    "response=s3.download_file(Bucket='uwmodelfiles',\n",
    "                         Key='ccsm3_A1B/hb2860_transient_runs.ccsm3_A1B.nc',\n",
    "                         Filename='placeholder.nc')"
   ]
  },
  {
   "cell_type": "code",
   "execution_count": 47,
   "metadata": {
    "collapsed": true
   },
   "outputs": [],
   "source": [
    "group=Dataset('placeholder.nc')"
   ]
  },
  {
   "cell_type": "code",
   "execution_count": 68,
   "metadata": {},
   "outputs": [
    {
     "data": {
      "text/plain": [
       "54787"
      ]
     },
     "execution_count": 68,
     "metadata": {},
     "output_type": "execute_result"
    }
   ],
   "source": [
    "len(group.variables['BASEFLOW'])"
   ]
  },
  {
   "cell_type": "code",
   "execution_count": 59,
   "metadata": {
    "collapsed": true
   },
   "outputs": [],
   "source": [
    "key='ccsm3_A1B/hb2860_transient_runs.ccsm3_A1B.nc'"
   ]
  },
  {
   "cell_type": "code",
   "execution_count": 69,
   "metadata": {
    "collapsed": true
   },
   "outputs": [],
   "source": [
    "\n",
    "df.to_csv('reference_csv/ccsm2_A1B.csv')"
   ]
  },
  {
   "cell_type": "code",
   "execution_count": 76,
   "metadata": {},
   "outputs": [
    {
     "name": "stdout",
     "output_type": "stream",
     "text": [
      "aws s3 cp s3://uwdatabasefiles/hb2860_transient_runs.ccsm3_A1B.198510.nc ~/bucketdatabase/hb2860_transient_runs.ccsm3_A1B.198510.nc\n",
      "aws s3 cp s3://uwdatabasefiles/hb2860_transient_runs.ccsm3_A1B.198511.nc ~/bucketdatabase/hb2860_transient_runs.ccsm3_A1B.198511.nc\n",
      "aws s3 cp s3://uwdatabasefiles/hb2860_transient_runs.ccsm3_A1B.198512.nc ~/bucketdatabase/hb2860_transient_runs.ccsm3_A1B.198512.nc\n"
     ]
    }
   ],
   "source": [
    "for file in linklist[:3]:\n",
    "    print('aws s3 cp s3://uwdatabasefiles/{} ~/bucketdatabase/{}'.format(file, file))\n",
    "    "
   ]
  },
  {
   "cell_type": "code",
   "execution_count": 48,
   "metadata": {
    "collapsed": true
   },
   "outputs": [],
   "source": [
    "g=Dataset('Database files/hb2860_transient_runs.ccsm3_A1B.198510 (2).nc' )"
   ]
  },
  {
   "cell_type": "code",
   "execution_count": 51,
   "metadata": {},
   "outputs": [
    {
     "data": {
      "text/plain": [
       "masked_array(data =\n",
       " [[-- -- -- ..., -- -- --]\n",
       " [-- -- -- ..., -- -- --]\n",
       " [-- -- -- ..., -- -- --]\n",
       " ..., \n",
       " [-- -- -- ..., -- -- --]\n",
       " [-- -- -- ..., -- -- --]\n",
       " [-- -- -- ..., -- -- --]],\n",
       "             mask =\n",
       " [[ True  True  True ...,  True  True  True]\n",
       " [ True  True  True ...,  True  True  True]\n",
       " [ True  True  True ...,  True  True  True]\n",
       " ..., \n",
       " [ True  True  True ...,  True  True  True]\n",
       " [ True  True  True ...,  True  True  True]\n",
       " [ True  True  True ...,  True  True  True]],\n",
       "       fill_value = 1e+20)"
      ]
     },
     "execution_count": 51,
     "metadata": {},
     "output_type": "execute_result"
    }
   ],
   "source": [
    "g.variables['BASEFLOW'][1]"
   ]
  },
  {
   "cell_type": "code",
   "execution_count": 1196,
   "metadata": {},
   "outputs": [
    {
     "data": {
      "text/plain": [
       "[-8799312884442972279, -8799312884442972279]"
      ]
     },
     "execution_count": 1196,
     "metadata": {},
     "output_type": "execute_result"
    }
   ],
   "source": [
    "data_hashes"
   ]
  },
  {
   "cell_type": "code",
   "execution_count": null,
   "metadata": {
    "collapsed": true
   },
   "outputs": [],
   "source": []
  },
  {
   "cell_type": "code",
   "execution_count": 1159,
   "metadata": {
    "collapsed": true
   },
   "outputs": [],
   "source": [
    "url=baselink+linklist[0]\n",
    "url1=makelink(baselink, linklist[1])"
   ]
  },
  {
   "cell_type": "code",
   "execution_count": 1167,
   "metadata": {
    "collapsed": true
   },
   "outputs": [],
   "source": [
    "f1=fetch_netcdf(url)"
   ]
  },
  {
   "cell_type": "code",
   "execution_count": 77,
   "metadata": {},
   "outputs": [
    {
     "ename": "NameError",
     "evalue": "name 'df' is not defined",
     "output_type": "error",
     "traceback": [
      "\u001b[0;31m---------------------------------------------------------------------------\u001b[0m",
      "\u001b[0;31mNameError\u001b[0m                                 Traceback (most recent call last)",
      "\u001b[0;32m<ipython-input-77-7ed0097d7e9e>\u001b[0m in \u001b[0;36m<module>\u001b[0;34m()\u001b[0m\n\u001b[0;32m----> 1\u001b[0;31m \u001b[0mdf\u001b[0m\u001b[0;34m\u001b[0m\u001b[0m\n\u001b[0m",
      "\u001b[0;31mNameError\u001b[0m: name 'df' is not defined"
     ]
    }
   ],
   "source": [
    "d"
   ]
  },
  {
   "cell_type": "code",
   "execution_count": 1134,
   "metadata": {
    "collapsed": true
   },
   "outputs": [],
   "source": [
    "file = fetch_netcdf(url1)"
   ]
  },
  {
   "cell_type": "code",
   "execution_count": 1135,
   "metadata": {
    "collapsed": true
   },
   "outputs": [],
   "source": [
    "clist=makecoordlist(group)\n",
    "tlist=maketimelist(group)"
   ]
  },
  {
   "cell_type": "code",
   "execution_count": null,
   "metadata": {
    "collapsed": true,
    "scrolled": true
   },
   "outputs": [],
   "source": []
  },
  {
   "cell_type": "code",
   "execution_count": 1071,
   "metadata": {},
   "outputs": [
    {
     "data": {
      "text/plain": [
       "(31, 187, 239)"
      ]
     },
     "execution_count": 1071,
     "metadata": {},
     "output_type": "execute_result"
    }
   ],
   "source": [
    "group.variables['BASEFLOW'].shape"
   ]
  },
  {
   "cell_type": "code",
   "execution_count": 1003,
   "metadata": {},
   "outputs": [
    {
     "data": {
      "text/plain": [
       "31"
      ]
     },
     "execution_count": 1003,
     "metadata": {},
     "output_type": "execute_result"
    }
   ],
   "source": [
    "len(list(data.variables['BASEFLOW']))"
   ]
  },
  {
   "cell_type": "code",
   "execution_count": 1001,
   "metadata": {},
   "outputs": [
    {
     "data": {
      "text/plain": [
       "(31,)"
      ]
     },
     "execution_count": 1001,
     "metadata": {},
     "output_type": "execute_result"
    }
   ],
   "source": [
    "data.variables['TIME'][:].shape"
   ]
  },
  {
   "cell_type": "code",
   "execution_count": 1061,
   "metadata": {
    "collapsed": true
   },
   "outputs": [],
   "source": [
    "linklist=retrieveurls('http://warm.atmos.washington.edu/2860/r7climate/hb2860_transient_runs/ccsm3_A1B/netcdf_daily/')"
   ]
  },
  {
   "cell_type": "code",
   "execution_count": 814,
   "metadata": {},
   "outputs": [
    {
     "data": {
      "text/plain": [
       "'hb2860_transient_runs.ccsm3_A1B.198608.nc'"
      ]
     },
     "execution_count": 814,
     "metadata": {},
     "output_type": "execute_result"
    }
   ],
   "source": [
    "linklist[10]"
   ]
  },
  {
   "cell_type": "code",
   "execution_count": 1082,
   "metadata": {
    "collapsed": true
   },
   "outputs": [],
   "source": [
    "baselink='http://warm.atmos.washington.edu/2860/r7climate/hb2860_transient_runs/ccsm3_A1B/netcdf_daily/'\n",
    "group1=dl_one_netcdf(baselink, linklist[10])\n"
   ]
  },
  {
   "cell_type": "code",
   "execution_count": 1087,
   "metadata": {},
   "outputs": [
    {
     "ename": "RuntimeError",
     "evalue": "NetCDF: HDF error",
     "output_type": "error",
     "traceback": [
      "\u001b[0;31m---------------------------------------------------------------------------\u001b[0m",
      "\u001b[0;31mRuntimeError\u001b[0m                              Traceback (most recent call last)",
      "\u001b[0;32m<ipython-input-1087-cf695de6f73a>\u001b[0m in \u001b[0;36m<module>\u001b[0;34m()\u001b[0m\n\u001b[0;32m----> 1\u001b[0;31m \u001b[0mgroup1\u001b[0m\u001b[0;34m.\u001b[0m\u001b[0mvariables\u001b[0m\u001b[0;34m[\u001b[0m\u001b[0;34m'BASEFLOW'\u001b[0m\u001b[0;34m]\u001b[0m\u001b[0;34m[\u001b[0m\u001b[0;34m:\u001b[0m\u001b[0;34m]\u001b[0m\u001b[0;34m\u001b[0m\u001b[0m\n\u001b[0m",
      "\u001b[0;32mnetCDF4/_netCDF4.pyx\u001b[0m in \u001b[0;36mnetCDF4._netCDF4.Variable.__getitem__\u001b[0;34m()\u001b[0m\n",
      "\u001b[0;32mnetCDF4/_netCDF4.pyx\u001b[0m in \u001b[0;36mnetCDF4._netCDF4.Variable._get\u001b[0;34m()\u001b[0m\n",
      "\u001b[0;32mnetCDF4/_netCDF4.pyx\u001b[0m in \u001b[0;36mnetCDF4._netCDF4._ensure_nc_success\u001b[0;34m()\u001b[0m\n",
      "\u001b[0;31mRuntimeError\u001b[0m: NetCDF: HDF error"
     ]
    }
   ],
   "source": [
    "group1.variables['BASEFLOW']"
   ]
  },
  {
   "cell_type": "code",
   "execution_count": 792,
   "metadata": {
    "collapsed": true
   },
   "outputs": [],
   "source": [
    "clist=makecoordlist(group)\n",
    "tlist=maketimelist(group)"
   ]
  },
  {
   "cell_type": "code",
   "execution_count": 823,
   "metadata": {},
   "outputs": [
    {
     "ename": "RuntimeError",
     "evalue": "NetCDF: HDF error",
     "output_type": "error",
     "traceback": [
      "\u001b[0;31m---------------------------------------------------------------------------\u001b[0m",
      "\u001b[0;31mRuntimeError\u001b[0m                              Traceback (most recent call last)",
      "\u001b[0;32m<ipython-input-823-c497d866d7f0>\u001b[0m in \u001b[0;36m<module>\u001b[0;34m()\u001b[0m\n\u001b[1;32m      1\u001b[0m \u001b[0;31m#group1.variables['BASEFLOW'][1]\u001b[0m\u001b[0;34m\u001b[0m\u001b[0;34m\u001b[0m\u001b[0m\n\u001b[1;32m      2\u001b[0m \u001b[0mgroup2\u001b[0m\u001b[0;34m=\u001b[0m\u001b[0mDataset\u001b[0m\u001b[0;34m(\u001b[0m\u001b[0;34m'placeholder.nc'\u001b[0m\u001b[0;34m)\u001b[0m\u001b[0;34m\u001b[0m\u001b[0m\n\u001b[0;32m----> 3\u001b[0;31m \u001b[0mgroup2\u001b[0m\u001b[0;34m.\u001b[0m\u001b[0mvariables\u001b[0m\u001b[0;34m[\u001b[0m\u001b[0;34m'BASEFLOW'\u001b[0m\u001b[0;34m]\u001b[0m\u001b[0;34m[\u001b[0m\u001b[0;36m0\u001b[0m\u001b[0;34m]\u001b[0m\u001b[0;34m\u001b[0m\u001b[0m\n\u001b[0m\u001b[1;32m      4\u001b[0m \u001b[0;31m#baseflowdf=makedfbaseflow(group1, clist,tlist)\u001b[0m\u001b[0;34m\u001b[0m\u001b[0;34m\u001b[0m\u001b[0m\n",
      "\u001b[0;32mnetCDF4/_netCDF4.pyx\u001b[0m in \u001b[0;36mnetCDF4._netCDF4.Variable.__getitem__\u001b[0;34m()\u001b[0m\n",
      "\u001b[0;32mnetCDF4/_netCDF4.pyx\u001b[0m in \u001b[0;36mnetCDF4._netCDF4.Variable._get\u001b[0;34m()\u001b[0m\n",
      "\u001b[0;32mnetCDF4/_netCDF4.pyx\u001b[0m in \u001b[0;36mnetCDF4._netCDF4._ensure_nc_success\u001b[0;34m()\u001b[0m\n",
      "\u001b[0;31mRuntimeError\u001b[0m: NetCDF: HDF error"
     ]
    }
   ],
   "source": [
    "#group1.variables['BASEFLOW'][1]\n",
    "group2=Dataset('placeholder.nc')\n",
    "group2.variables['BASEFLOW'][0]\n",
    "#baseflowdf=makedfbaseflow(group1, clist,tlist)"
   ]
  },
  {
   "cell_type": "code",
   "execution_count": 794,
   "metadata": {},
   "outputs": [
    {
     "ename": "RuntimeError",
     "evalue": "NetCDF: HDF error",
     "output_type": "error",
     "traceback": [
      "\u001b[0;31m---------------------------------------------------------------------------\u001b[0m",
      "\u001b[0;31mRuntimeError\u001b[0m                              Traceback (most recent call last)",
      "\u001b[0;32m<ipython-input-794-3e1fef0314cd>\u001b[0m in \u001b[0;36m<module>\u001b[0;34m()\u001b[0m\n\u001b[0;32m----> 1\u001b[0;31m \u001b[0mgroup1\u001b[0m\u001b[0;34m.\u001b[0m\u001b[0mvariables\u001b[0m\u001b[0;34m[\u001b[0m\u001b[0;34m'BASEFLOW'\u001b[0m\u001b[0;34m]\u001b[0m\u001b[0;34m[\u001b[0m\u001b[0;36m10\u001b[0m\u001b[0;34m]\u001b[0m\u001b[0;34m\u001b[0m\u001b[0m\n\u001b[0m",
      "\u001b[0;32mnetCDF4/_netCDF4.pyx\u001b[0m in \u001b[0;36mnetCDF4._netCDF4.Variable.__getitem__\u001b[0;34m()\u001b[0m\n",
      "\u001b[0;32mnetCDF4/_netCDF4.pyx\u001b[0m in \u001b[0;36mnetCDF4._netCDF4.Variable._get\u001b[0;34m()\u001b[0m\n",
      "\u001b[0;32mnetCDF4/_netCDF4.pyx\u001b[0m in \u001b[0;36mnetCDF4._netCDF4._ensure_nc_success\u001b[0;34m()\u001b[0m\n",
      "\u001b[0;31mRuntimeError\u001b[0m: NetCDF: HDF error"
     ]
    }
   ],
   "source": [
    "group1.variables['BASEFLOW'][10]\n"
   ]
  },
  {
   "cell_type": "code",
   "execution_count": 795,
   "metadata": {},
   "outputs": [
    {
     "data": {
      "text/plain": [
       "'hb2860_transient_runs.ccsm3_A1B.198608.nc'"
      ]
     },
     "execution_count": 795,
     "metadata": {},
     "output_type": "execute_result"
    }
   ],
   "source": [
    "linklist[10]"
   ]
  },
  {
   "cell_type": "code",
   "execution_count": 816,
   "metadata": {
    "collapsed": true
   },
   "outputs": [],
   "source": [
    "group=Dataset('Database files/hb2860_transient_runs.ccsm3_A1B.198608.nc')"
   ]
  },
  {
   "cell_type": "code",
   "execution_count": 818,
   "metadata": {
    "collapsed": true
   },
   "outputs": [],
   "source": [
    "l=group.variables['BASEFLOW'][10]"
   ]
  },
  {
   "cell_type": "code",
   "execution_count": 820,
   "metadata": {},
   "outputs": [
    {
     "data": {
      "text/plain": [
       "masked_array(data = [-- -- -- -- -- -- -- -- -- -- -- -- -- -- -- -- -- -- -- -- -- -- -- -- --\n",
       " -- -- -- -- -- -- -- -- -- -- -- -- -- -- -- -- -- -- -- -- -- -- -- -- --\n",
       " -- -- -- -- -- -- -- -- -- -- -- -- -- -- -- -- -- -- -- -- -- -- -- -- --\n",
       " -- -- -- -- -- -- 0.17578125 0.193359375 0.220703125 0.1982421875\n",
       " 0.201171875 -- -- -- -- -- -- -- -- -- -- -- -- -- -- -- -- -- -- -- -- --\n",
       " -- -- -- -- -- -- -- -- -- -- -- -- 0.181640625 0.1220703125 0.1025390625\n",
       " 0.09765625 0.0830078125 0.0830078125 0.083984375 0.0830078125 0.083984375\n",
       " 0.0830078125 0.0830078125 0.0830078125 0.0830078125 0.0830078125\n",
       " 0.11328125 0.1171875 0.111328125 0.11328125 0.14453125 0.11328125 0.109375\n",
       " 0.1181640625 0.1337890625 0.1103515625 0.111328125 0.111328125 0.048828125\n",
       " 0.0947265625 0.169921875 0.2080078125 0.20703125 0.173828125 0.150390625\n",
       " 0.1123046875 0.1103515625 0.109375 0.1103515625 0.109375 0.109375\n",
       " 0.1123046875 0.1142578125 0.111328125 0.1103515625 0.1103515625\n",
       " 0.1103515625 -- 0.134765625 0.2021484375 0.1259765625 0.142578125\n",
       " 0.2001953125 -- 0.21875 -- -- -- 0.21484375 -- -- -- -- -- -- -- -- -- --\n",
       " -- -- -- -- -- -- -- -- -- -- -- -- -- -- -- -- -- -- -- -- -- -- -- -- --\n",
       " -- -- -- -- -- -- -- -- -- -- -- -- -- -- -- -- -- -- -- -- -- -- -- -- --\n",
       " -- -- --],\n",
       "             mask = [ True  True  True  True  True  True  True  True  True  True  True  True\n",
       "  True  True  True  True  True  True  True  True  True  True  True  True\n",
       "  True  True  True  True  True  True  True  True  True  True  True  True\n",
       "  True  True  True  True  True  True  True  True  True  True  True  True\n",
       "  True  True  True  True  True  True  True  True  True  True  True  True\n",
       "  True  True  True  True  True  True  True  True  True  True  True  True\n",
       "  True  True  True  True  True  True  True  True  True False False False\n",
       " False False  True  True  True  True  True  True  True  True  True  True\n",
       "  True  True  True  True  True  True  True  True  True  True  True  True\n",
       "  True  True  True  True  True  True  True  True  True  True  True False\n",
       " False False False False False False False False False False False False\n",
       " False False False False False False False False False False False False\n",
       " False False False False False False False False False False False False\n",
       " False False False False False False False False  True False False False\n",
       " False False  True False  True  True  True False  True  True  True  True\n",
       "  True  True  True  True  True  True  True  True  True  True  True  True\n",
       "  True  True  True  True  True  True  True  True  True  True  True  True\n",
       "  True  True  True  True  True  True  True  True  True  True  True  True\n",
       "  True  True  True  True  True  True  True  True  True  True  True  True\n",
       "  True  True  True  True  True  True  True  True  True  True  True],\n",
       "       fill_value = 1e+20)"
      ]
     },
     "execution_count": 820,
     "metadata": {},
     "output_type": "execute_result"
    }
   ],
   "source": [
    "l[10]"
   ]
  },
  {
   "cell_type": "code",
   "execution_count": 78,
   "metadata": {},
   "outputs": [
    {
     "data": {
      "text/plain": [
       "0.01532702342461913"
      ]
     },
     "execution_count": 78,
     "metadata": {},
     "output_type": "execute_result"
    }
   ],
   "source": [
    "(.168 * .832 / 595)**.5"
   ]
  },
  {
   "cell_type": "code",
   "execution_count": 79,
   "metadata": {},
   "outputs": [
    {
     "data": {
      "text/plain": [
       "0.16800000000000004"
      ]
     },
     "execution_count": 79,
     "metadata": {},
     "output_type": "execute_result"
    }
   ],
   "source": [
    "1-.832\n"
   ]
  },
  {
   "cell_type": "code",
   "execution_count": null,
   "metadata": {
    "collapsed": true
   },
   "outputs": [],
   "source": []
  }
 ],
 "metadata": {
  "kernelspec": {
   "display_name": "Python 3",
   "language": "python",
   "name": "python3"
  },
  "language_info": {
   "codemirror_mode": {
    "name": "ipython",
    "version": 3
   },
   "file_extension": ".py",
   "mimetype": "text/x-python",
   "name": "python",
   "nbconvert_exporter": "python",
   "pygments_lexer": "ipython3",
   "version": "3.6.3"
  }
 },
 "nbformat": 4,
 "nbformat_minor": 2
}
